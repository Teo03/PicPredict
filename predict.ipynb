{
 "cells": [
  {
   "cell_type": "code",
   "execution_count": 1,
   "metadata": {},
   "outputs": [],
   "source": [
    "import os\n",
    "from config import *\n",
    "from tqdm import tqdm\n",
    "from utils.dataset import DrawingsDataset\n",
    "from utils.data_utils import load_dataset\n",
    "from matplotlib.pyplot import imshow, show\n",
    "\n",
    "import torch\n",
    "from model import resnet50"
   ]
  },
  {
   "cell_type": "code",
   "execution_count": 2,
   "metadata": {},
   "outputs": [
    {
     "output_type": "execute_result",
     "data": {
      "text/plain": [
       "<All keys matched successfully>"
      ]
     },
     "metadata": {},
     "execution_count": 2
    }
   ],
   "source": [
    "model = resnet50().cuda()\n",
    "model.load_state_dict(torch.load('./models/model.pth'))"
   ]
  },
  {
   "source": [
    "# Predict from the test dataset"
   ],
   "cell_type": "markdown",
   "metadata": {}
  },
  {
   "cell_type": "code",
   "execution_count": 3,
   "metadata": {},
   "outputs": [
    {
     "output_type": "stream",
     "name": "stdout",
     "text": [
      "label: alarm_clock\nprediction: alarm_clock\n"
     ]
    },
    {
     "output_type": "display_data",
     "data": {
      "text/plain": "<Figure size 432x288 with 1 Axes>",
      "image/svg+xml": "<?xml version=\"1.0\" encoding=\"utf-8\" standalone=\"no\"?>\n<!DOCTYPE svg PUBLIC \"-//W3C//DTD SVG 1.1//EN\"\n  \"http://www.w3.org/Graphics/SVG/1.1/DTD/svg11.dtd\">\n<!-- Created with matplotlib (https://matplotlib.org/) -->\n<svg height=\"248.518125pt\" version=\"1.1\" viewBox=\"0 0 251.565 248.518125\" width=\"251.565pt\" xmlns=\"http://www.w3.org/2000/svg\" xmlns:xlink=\"http://www.w3.org/1999/xlink\">\n <metadata>\n  <rdf:RDF xmlns:cc=\"http://creativecommons.org/ns#\" xmlns:dc=\"http://purl.org/dc/elements/1.1/\" xmlns:rdf=\"http://www.w3.org/1999/02/22-rdf-syntax-ns#\">\n   <cc:Work>\n    <dc:type rdf:resource=\"http://purl.org/dc/dcmitype/StillImage\"/>\n    <dc:date>2021-05-13T14:33:11.015459</dc:date>\n    <dc:format>image/svg+xml</dc:format>\n    <dc:creator>\n     <cc:Agent>\n      <dc:title>Matplotlib v3.3.1, https://matplotlib.org/</dc:title>\n     </cc:Agent>\n    </dc:creator>\n   </cc:Work>\n  </rdf:RDF>\n </metadata>\n <defs>\n  <style type=\"text/css\">*{stroke-linecap:butt;stroke-linejoin:round;}</style>\n </defs>\n <g id=\"figure_1\">\n  <g id=\"patch_1\">\n   <path d=\"M 0 248.518125 \nL 251.565 248.518125 \nL 251.565 0 \nL 0 0 \nz\n\" style=\"fill:none;\"/>\n  </g>\n  <g id=\"axes_1\">\n   <g id=\"patch_2\">\n    <path d=\"M 26.925 224.64 \nL 244.365 224.64 \nL 244.365 7.2 \nL 26.925 7.2 \nz\n\" style=\"fill:#ffffff;\"/>\n   </g>\n   <g clip-path=\"url(#pdb1878ccf2)\">\n    <image height=\"218\" id=\"image3c5a0a381d\" transform=\"scale(1 -1)translate(0 -218)\" width=\"218\" x=\"26.925\" xlink:href=\"data:image/png;base64,\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\" y=\"-6.64\"/>\n   </g>\n   <g id=\"matplotlib.axis_1\">\n    <g id=\"xtick_1\">\n     <g id=\"line2d_1\">\n      <defs>\n       <path d=\"M 0 0 \nL 0 3.5 \n\" id=\"m456a95af76\" style=\"stroke:#000000;stroke-width:0.8;\"/>\n      </defs>\n      <g>\n       <use style=\"stroke:#000000;stroke-width:0.8;\" x=\"30.807857\" xlink:href=\"#m456a95af76\" y=\"224.64\"/>\n      </g>\n     </g>\n     <g id=\"text_1\">\n      <!-- 0 -->\n      <g transform=\"translate(27.626607 239.238437)scale(0.1 -0.1)\">\n       <defs>\n        <path d=\"M 31.78125 66.40625 \nQ 24.171875 66.40625 20.328125 58.90625 \nQ 16.5 51.421875 16.5 36.375 \nQ 16.5 21.390625 20.328125 13.890625 \nQ 24.171875 6.390625 31.78125 6.390625 \nQ 39.453125 6.390625 43.28125 13.890625 \nQ 47.125 21.390625 47.125 36.375 \nQ 47.125 51.421875 43.28125 58.90625 \nQ 39.453125 66.40625 31.78125 66.40625 \nz\nM 31.78125 74.21875 \nQ 44.046875 74.21875 50.515625 64.515625 \nQ 56.984375 54.828125 56.984375 36.375 \nQ 56.984375 17.96875 50.515625 8.265625 \nQ 44.046875 -1.421875 31.78125 -1.421875 \nQ 19.53125 -1.421875 13.0625 8.265625 \nQ 6.59375 17.96875 6.59375 36.375 \nQ 6.59375 54.828125 13.0625 64.515625 \nQ 19.53125 74.21875 31.78125 74.21875 \nz\n\" id=\"DejaVuSans-48\"/>\n       </defs>\n       <use xlink:href=\"#DejaVuSans-48\"/>\n      </g>\n     </g>\n    </g>\n    <g id=\"xtick_2\">\n     <g id=\"line2d_2\">\n      <g>\n       <use style=\"stroke:#000000;stroke-width:0.8;\" x=\"69.636429\" xlink:href=\"#m456a95af76\" y=\"224.64\"/>\n      </g>\n     </g>\n     <g id=\"text_2\">\n      <!-- 5 -->\n      <g transform=\"translate(66.455179 239.238437)scale(0.1 -0.1)\">\n       <defs>\n        <path d=\"M 10.796875 72.90625 \nL 49.515625 72.90625 \nL 49.515625 64.59375 \nL 19.828125 64.59375 \nL 19.828125 46.734375 \nQ 21.96875 47.46875 24.109375 47.828125 \nQ 26.265625 48.1875 28.421875 48.1875 \nQ 40.625 48.1875 47.75 41.5 \nQ 54.890625 34.8125 54.890625 23.390625 \nQ 54.890625 11.625 47.5625 5.09375 \nQ 40.234375 -1.421875 26.90625 -1.421875 \nQ 22.3125 -1.421875 17.546875 -0.640625 \nQ 12.796875 0.140625 7.71875 1.703125 \nL 7.71875 11.625 \nQ 12.109375 9.234375 16.796875 8.0625 \nQ 21.484375 6.890625 26.703125 6.890625 \nQ 35.15625 6.890625 40.078125 11.328125 \nQ 45.015625 15.765625 45.015625 23.390625 \nQ 45.015625 31 40.078125 35.4375 \nQ 35.15625 39.890625 26.703125 39.890625 \nQ 22.75 39.890625 18.8125 39.015625 \nQ 14.890625 38.140625 10.796875 36.28125 \nz\n\" id=\"DejaVuSans-53\"/>\n       </defs>\n       <use xlink:href=\"#DejaVuSans-53\"/>\n      </g>\n     </g>\n    </g>\n    <g id=\"xtick_3\">\n     <g id=\"line2d_3\">\n      <g>\n       <use style=\"stroke:#000000;stroke-width:0.8;\" x=\"108.465\" xlink:href=\"#m456a95af76\" y=\"224.64\"/>\n      </g>\n     </g>\n     <g id=\"text_3\">\n      <!-- 10 -->\n      <g transform=\"translate(102.1025 239.238437)scale(0.1 -0.1)\">\n       <defs>\n        <path d=\"M 12.40625 8.296875 \nL 28.515625 8.296875 \nL 28.515625 63.921875 \nL 10.984375 60.40625 \nL 10.984375 69.390625 \nL 28.421875 72.90625 \nL 38.28125 72.90625 \nL 38.28125 8.296875 \nL 54.390625 8.296875 \nL 54.390625 0 \nL 12.40625 0 \nz\n\" id=\"DejaVuSans-49\"/>\n       </defs>\n       <use xlink:href=\"#DejaVuSans-49\"/>\n       <use x=\"63.623047\" xlink:href=\"#DejaVuSans-48\"/>\n      </g>\n     </g>\n    </g>\n    <g id=\"xtick_4\">\n     <g id=\"line2d_4\">\n      <g>\n       <use style=\"stroke:#000000;stroke-width:0.8;\" x=\"147.293571\" xlink:href=\"#m456a95af76\" y=\"224.64\"/>\n      </g>\n     </g>\n     <g id=\"text_4\">\n      <!-- 15 -->\n      <g transform=\"translate(140.931071 239.238437)scale(0.1 -0.1)\">\n       <use xlink:href=\"#DejaVuSans-49\"/>\n       <use x=\"63.623047\" xlink:href=\"#DejaVuSans-53\"/>\n      </g>\n     </g>\n    </g>\n    <g id=\"xtick_5\">\n     <g id=\"line2d_5\">\n      <g>\n       <use style=\"stroke:#000000;stroke-width:0.8;\" x=\"186.122143\" xlink:href=\"#m456a95af76\" y=\"224.64\"/>\n      </g>\n     </g>\n     <g id=\"text_5\">\n      <!-- 20 -->\n      <g transform=\"translate(179.759643 239.238437)scale(0.1 -0.1)\">\n       <defs>\n        <path d=\"M 19.1875 8.296875 \nL 53.609375 8.296875 \nL 53.609375 0 \nL 7.328125 0 \nL 7.328125 8.296875 \nQ 12.9375 14.109375 22.625 23.890625 \nQ 32.328125 33.6875 34.8125 36.53125 \nQ 39.546875 41.84375 41.421875 45.53125 \nQ 43.3125 49.21875 43.3125 52.78125 \nQ 43.3125 58.59375 39.234375 62.25 \nQ 35.15625 65.921875 28.609375 65.921875 \nQ 23.96875 65.921875 18.8125 64.3125 \nQ 13.671875 62.703125 7.8125 59.421875 \nL 7.8125 69.390625 \nQ 13.765625 71.78125 18.9375 73 \nQ 24.125 74.21875 28.421875 74.21875 \nQ 39.75 74.21875 46.484375 68.546875 \nQ 53.21875 62.890625 53.21875 53.421875 \nQ 53.21875 48.921875 51.53125 44.890625 \nQ 49.859375 40.875 45.40625 35.40625 \nQ 44.1875 33.984375 37.640625 27.21875 \nQ 31.109375 20.453125 19.1875 8.296875 \nz\n\" id=\"DejaVuSans-50\"/>\n       </defs>\n       <use xlink:href=\"#DejaVuSans-50\"/>\n       <use x=\"63.623047\" xlink:href=\"#DejaVuSans-48\"/>\n      </g>\n     </g>\n    </g>\n    <g id=\"xtick_6\">\n     <g id=\"line2d_6\">\n      <g>\n       <use style=\"stroke:#000000;stroke-width:0.8;\" x=\"224.950714\" xlink:href=\"#m456a95af76\" y=\"224.64\"/>\n      </g>\n     </g>\n     <g id=\"text_6\">\n      <!-- 25 -->\n      <g transform=\"translate(218.588214 239.238437)scale(0.1 -0.1)\">\n       <use xlink:href=\"#DejaVuSans-50\"/>\n       <use x=\"63.623047\" xlink:href=\"#DejaVuSans-53\"/>\n      </g>\n     </g>\n    </g>\n   </g>\n   <g id=\"matplotlib.axis_2\">\n    <g id=\"ytick_1\">\n     <g id=\"line2d_7\">\n      <defs>\n       <path d=\"M 0 0 \nL -3.5 0 \n\" id=\"mb07935d3ff\" style=\"stroke:#000000;stroke-width:0.8;\"/>\n      </defs>\n      <g>\n       <use style=\"stroke:#000000;stroke-width:0.8;\" x=\"26.925\" xlink:href=\"#mb07935d3ff\" y=\"11.082857\"/>\n      </g>\n     </g>\n     <g id=\"text_7\">\n      <!-- 0 -->\n      <g transform=\"translate(13.5625 14.882076)scale(0.1 -0.1)\">\n       <use xlink:href=\"#DejaVuSans-48\"/>\n      </g>\n     </g>\n    </g>\n    <g id=\"ytick_2\">\n     <g id=\"line2d_8\">\n      <g>\n       <use style=\"stroke:#000000;stroke-width:0.8;\" x=\"26.925\" xlink:href=\"#mb07935d3ff\" y=\"49.911429\"/>\n      </g>\n     </g>\n     <g id=\"text_8\">\n      <!-- 5 -->\n      <g transform=\"translate(13.5625 53.710647)scale(0.1 -0.1)\">\n       <use xlink:href=\"#DejaVuSans-53\"/>\n      </g>\n     </g>\n    </g>\n    <g id=\"ytick_3\">\n     <g id=\"line2d_9\">\n      <g>\n       <use style=\"stroke:#000000;stroke-width:0.8;\" x=\"26.925\" xlink:href=\"#mb07935d3ff\" y=\"88.74\"/>\n      </g>\n     </g>\n     <g id=\"text_9\">\n      <!-- 10 -->\n      <g transform=\"translate(7.2 92.539219)scale(0.1 -0.1)\">\n       <use xlink:href=\"#DejaVuSans-49\"/>\n       <use x=\"63.623047\" xlink:href=\"#DejaVuSans-48\"/>\n      </g>\n     </g>\n    </g>\n    <g id=\"ytick_4\">\n     <g id=\"line2d_10\">\n      <g>\n       <use style=\"stroke:#000000;stroke-width:0.8;\" x=\"26.925\" xlink:href=\"#mb07935d3ff\" y=\"127.568571\"/>\n      </g>\n     </g>\n     <g id=\"text_10\">\n      <!-- 15 -->\n      <g transform=\"translate(7.2 131.36779)scale(0.1 -0.1)\">\n       <use xlink:href=\"#DejaVuSans-49\"/>\n       <use x=\"63.623047\" xlink:href=\"#DejaVuSans-53\"/>\n      </g>\n     </g>\n    </g>\n    <g id=\"ytick_5\">\n     <g id=\"line2d_11\">\n      <g>\n       <use style=\"stroke:#000000;stroke-width:0.8;\" x=\"26.925\" xlink:href=\"#mb07935d3ff\" y=\"166.397143\"/>\n      </g>\n     </g>\n     <g id=\"text_11\">\n      <!-- 20 -->\n      <g transform=\"translate(7.2 170.196362)scale(0.1 -0.1)\">\n       <use xlink:href=\"#DejaVuSans-50\"/>\n       <use x=\"63.623047\" xlink:href=\"#DejaVuSans-48\"/>\n      </g>\n     </g>\n    </g>\n    <g id=\"ytick_6\">\n     <g id=\"line2d_12\">\n      <g>\n       <use style=\"stroke:#000000;stroke-width:0.8;\" x=\"26.925\" xlink:href=\"#mb07935d3ff\" y=\"205.225714\"/>\n      </g>\n     </g>\n     <g id=\"text_12\">\n      <!-- 25 -->\n      <g transform=\"translate(7.2 209.024933)scale(0.1 -0.1)\">\n       <use xlink:href=\"#DejaVuSans-50\"/>\n       <use x=\"63.623047\" xlink:href=\"#DejaVuSans-53\"/>\n      </g>\n     </g>\n    </g>\n   </g>\n   <g id=\"patch_3\">\n    <path d=\"M 26.925 224.64 \nL 26.925 7.2 \n\" style=\"fill:none;stroke:#000000;stroke-linecap:square;stroke-linejoin:miter;stroke-width:0.8;\"/>\n   </g>\n   <g id=\"patch_4\">\n    <path d=\"M 244.365 224.64 \nL 244.365 7.2 \n\" style=\"fill:none;stroke:#000000;stroke-linecap:square;stroke-linejoin:miter;stroke-width:0.8;\"/>\n   </g>\n   <g id=\"patch_5\">\n    <path d=\"M 26.925 224.64 \nL 244.365 224.64 \n\" style=\"fill:none;stroke:#000000;stroke-linecap:square;stroke-linejoin:miter;stroke-width:0.8;\"/>\n   </g>\n   <g id=\"patch_6\">\n    <path d=\"M 26.925 7.2 \nL 244.365 7.2 \n\" style=\"fill:none;stroke:#000000;stroke-linecap:square;stroke-linejoin:miter;stroke-width:0.8;\"/>\n   </g>\n  </g>\n </g>\n <defs>\n  <clipPath id=\"pdb1878ccf2\">\n   <rect height=\"217.44\" width=\"217.44\" x=\"26.925\" y=\"7.2\"/>\n  </clipPath>\n </defs>\n</svg>\n",
      "image/png": "[encoded data removed]"
     },
     "metadata": {
      "needs_background": "light"
     }
    }
   ],
   "source": [
    "test_data = DrawingsDataset(mtype=\"test\")\n",
    "test_loader = torch.utils.data.DataLoader(test_data, batch_size=1, shuffle=True)\n",
    "\n",
    "with torch.no_grad():\n",
    "    dataiter = iter(test_loader)\n",
    "\n",
    "    drawings, labels = dataiter.next()\n",
    "    drawings = drawings.view(-1, 1, IMAGE_SIZE, IMAGE_SIZE).cuda()\n",
    "    drawings /= 255.0\n",
    "\n",
    "    model.eval()\n",
    "    outputs = model(drawings)\n",
    "    _, predicted = torch.max(outputs, 1)\n",
    "\n",
    "    i = 0\n",
    "\n",
    "    imshow(drawings[i].view(28, 28).cpu())\n",
    "    print(f'label: {CLASSES[labels[i]]}')\n",
    "    print(f'prediction: {CLASSES[predicted[i]]}')"
   ]
  },
  {
   "source": [
    "outputs"
   ],
   "cell_type": "code",
   "metadata": {},
   "execution_count": 4,
   "outputs": [
    {
     "output_type": "execute_result",
     "data": {
      "text/plain": [
       "tensor([[ 0.3553, -0.3290, -2.4193,  4.6389, -0.2165, -0.1789, -1.1247, -0.1087,\n",
       "         -0.0595, -0.6057]], device='cuda:0')"
      ]
     },
     "metadata": {},
     "execution_count": 4
    }
   ]
  },
  {
   "source": [
    "# Predict from custom data"
   ],
   "cell_type": "markdown",
   "metadata": {}
  },
  {
   "cell_type": "code",
   "execution_count": 5,
   "metadata": {},
   "outputs": [],
   "source": [
    "x = [[  0.,   0.,   0.,   0.,   0.,   0.,   0.,   0.,   0.,   0.,   0.,\n",
    "            0.,   0.,   0.,   0.,   0.,   0.,   0.,   0.,   0.,   0.,   0.,\n",
    "            0.,   0.,   0.,   0.,   0.,   0.],\n",
    "         [  0.,   0.,   0.,   0.,   0.,   0.,   0.,   0.,   0.,   0.,   0.,\n",
    "            0.,   0.,   0.,   0.,   0.,   0.,   0.,   0.,   0.,   0.,   0.,\n",
    "            0.,   0.,   0.,   0.,   0.,   0.],\n",
    "         [  0.,   0.,   0.,   0.,   0.,   0.,   0.,   0.,   0.,   0.,   0.,\n",
    "            0.,   0.,   0.,   0.,   0.,   0.,   0.,   0.,   0.,   0.,   0.,\n",
    "            0.,   0.,   0.,   0.,   0.,   0.],\n",
    "         [  0.,   0.,   0.,   0.,   0.,   0.,   0.,   0.,   0.,   0.,   0.,\n",
    "            0.,   0.,   0.,   0.,   0.,   0.,   0.,   0.,   0.,   0.,   0.,\n",
    "            0.,   0.,   0.,   0.,   0.,   0.],\n",
    "         [  0.,   0.,   0.,   0.,   0.,   0.,   0.,   0.,   0.,   5.,   0.,\n",
    "            0.,   0.,   0.,   0.,   0.,   0.,   0.,   0.,   0.,   0.,   0.,\n",
    "            0.,   0.,   0.,   0.,   0.,   0.],\n",
    "         [  0.,   0.,   0.,   0.,   0.,   0.,   0.,   0., 109., 249.,  43.,\n",
    "            0.,   0.,   0.,   0.,   0.,   0.,   0.,   0.,   0.,   0.,   0.,\n",
    "            0.,   0.,   0.,   0.,   0.,   0.],\n",
    "         [  0.,  42., 132.,  52.,   0.,   0.,   3., 147., 255., 166.,   5.,\n",
    "            0.,   0.,   0.,   0.,   0.,   0.,   0.,   0.,   0.,   0.,   0.,\n",
    "            0.,   0.,   0.,   0.,   0.,   0.],\n",
    "         [  0.,  74., 245., 255., 216.,  75., 178., 255., 145.,   2.,   0.,\n",
    "            0.,   0.,   0.,   0.,   0.,   0.,   0.,   0.,   0.,   0.,   0.,\n",
    "            0.,   0.,   0.,   0.,   0.,   0.],\n",
    "         [  0.,   0.,  12.,  93., 180., 248., 250.,  92.,   0.,   0.,   0.,\n",
    "            0.,   0.,   0.,   0.,   0.,   0.,   0.,   0.,   0.,   0.,   0.,\n",
    "            0.,   0.,   0.,   0.,   0.,   0.],\n",
    "         [  0.,   0.,   0.,   0.,   0., 227., 208.,   0.,   0.,   0.,   0.,\n",
    "            0.,   0.,   0.,   0.,   0.,   0.,   0.,   0.,   0.,   0.,   0.,\n",
    "            0.,   0.,   0.,   0.,   0.,   0.],\n",
    "         [  0.,   0.,   0.,   0.,   0., 105., 255.,  52.,   0.,   0.,   0.,\n",
    "            0.,   0.,   0.,   0.,   0.,   0.,   0.,   0.,   0.,   0.,   0.,\n",
    "            0.,   0.,   0.,   0.,   0.,   0.],\n",
    "         [  0.,   0.,   0.,   0.,   0.,  12., 240., 158.,   0.,   0.,   0.,\n",
    "            0.,   0.,   0.,   0.,   0.,   0.,   0.,   0.,   0.,   0.,   0.,\n",
    "            0.,   0.,   0.,   0.,   0.,   0.],\n",
    "         [  0.,   0.,   0.,   0.,   0.,   0., 143., 248.,  22.,   0.,   0.,\n",
    "            0.,   0.,   0.,   0.,   0.,   0.,   0.,   1.,   4.,   0.,   0.,\n",
    "            0.,   0.,   0.,   0.,   0.,   0.],\n",
    "         [  0.,   0.,   0.,   0.,   0.,   0.,  80., 254., 228., 226., 104.,\n",
    "           98.,  85.,  85.,  85.,  85.,  86., 102., 200., 249., 227., 208.,\n",
    "          194., 186., 198., 114.,   0.,   0.],\n",
    "         [  0.,   0.,   0.,   0.,   0.,   0., 199., 255., 255., 255., 255.,\n",
    "          255., 255., 255., 255., 255., 255., 255., 255., 254., 255., 255.,\n",
    "          255., 255., 254., 113.,   0.,   0.],\n",
    "         [  0.,   0.,   0.,   0.,   0.,  72., 249., 196., 135., 127., 149.,\n",
    "          233., 245.,  86.,  34.,  34.,  34.,  44., 208., 255., 208., 143.,\n",
    "          124., 193., 255., 119.,   0.,   0.],\n",
    "         [  0.,   0.,   0.,   0.,   7., 226., 203.,  11.,   0.,   0.,   0.,\n",
    "           18., 209., 240.,  34.,   0.,   0., 168., 239.,  78.,   1.,   0.,\n",
    "            0.,   5., 157., 255.,  92.,   0.],\n",
    "         [  0.,   0.,   0.,   0.,  91., 255.,  60.,   0.,   0.,   0.,   0.,\n",
    "            0.,  48., 255.,  83.,   0.,   0., 216., 174.,   0.,   0.,   0.,\n",
    "            0.,   0.,  34., 255.,  92.,   0.],\n",
    "         [  0.,   0.,   0.,   0., 126., 250.,   0.,   0.,   0.,   0.,   0.,\n",
    "            0.,  39., 255.,  83.,   0.,   0., 154., 233.,   2.,   0.,   0.,\n",
    "            0.,  34., 191., 252.,  40.,   0.],\n",
    "         [  0.,   0.,   0.,   0., 122., 251.,   6.,   0.,   0.,   0.,   0.,\n",
    "            0.,  88., 255.,  62.,   0.,   0.,  74., 255., 169.,  87.,  93.,\n",
    "          165., 247., 238.,  84.,   0.,   0.],\n",
    "         [  0.,   0.,   0.,   0.,  69., 255., 146.,   2.,   0.,   0.,   0.,\n",
    "           27., 225., 205.,   1.,   0.,   0.,   0., 119., 239., 255., 255.,\n",
    "          230., 142.,  21.,   0.,   0.,   0.],\n",
    "         [  0.,   0.,   0.,   0.,   0., 131., 255., 212., 110., 102., 130.,\n",
    "          231., 238.,  44.,   0.,   0.,   0.,   0.,   0.,   8.,  34.,  31.,\n",
    "            2.,   0.,   0.,   0.,   0.,   0.],\n",
    "         [  0.,   0.,   0.,   0.,   0.,   0.,  76., 209., 255., 255., 252.,\n",
    "          174.,  44.,   0.,   0.,   0.,   0.,   0.,   0.,   0.,   0.,   0.,\n",
    "            0.,   0.,   0.,   0.,   0.,   0.],\n",
    "         [  0.,   0.,   0.,   0.,   0.,   0.,   0.,   0.,  17.,  17.,  10.,\n",
    "            0.,   0.,   0.,   0.,   0.,   0.,   0.,   0.,   0.,   0.,   0.,\n",
    "            0.,   0.,   0.,   0.,   0.,   0.],\n",
    "         [  0.,   0.,   0.,   0.,   0.,   0.,   0.,   0.,   0.,   0.,   0.,\n",
    "            0.,   0.,   0.,   0.,   0.,   0.,   0.,   0.,   0.,   0.,   0.,\n",
    "            0.,   0.,   0.,   0.,   0.,   0.],\n",
    "         [  0.,   0.,   0.,   0.,   0.,   0.,   0.,   0.,   0.,   0.,   0.,\n",
    "            0.,   0.,   0.,   0.,   0.,   0.,   0.,   0.,   0.,   0.,   0.,\n",
    "            0.,   0.,   0.,   0.,   0.,   0.],\n",
    "         [  0.,   0.,   0.,   0.,   0.,   0.,   0.,   0.,   0.,   0.,   0.,\n",
    "            0.,   0.,   0.,   0.,   0.,   0.,   0.,   0.,   0.,   0.,   0.,\n",
    "            0.,   0.,   0.,   0.,   0.,   0.],\n",
    "         [  0.,   0.,   0.,   0.,   0.,   0.,   0.,   0.,   0.,   0.,   0.,\n",
    "            0.,   0.,   0.,   0.,   0.,   0.,   0.,   0.,   0.,   0.,   0.,\n",
    "            0.,   0.,   0.,   0.,   0.,   0.]]"
   ]
  },
  {
   "source": [
    "# convert raw list to pytorch tensor and normalize it\n",
    "x = torch.FloatTensor(x)\n",
    "x = x.view(-1, 1, IMAGE_SIZE, IMAGE_SIZE).cuda()\n",
    "x = x / 255.0\n",
    "x.shape"
   ],
   "cell_type": "code",
   "metadata": {},
   "execution_count": 6,
   "outputs": [
    {
     "output_type": "execute_result",
     "data": {
      "text/plain": [
       "torch.Size([1, 1, 28, 28])"
      ]
     },
     "metadata": {},
     "execution_count": 6
    }
   ]
  },
  {
   "cell_type": "code",
   "execution_count": 7,
   "metadata": {},
   "outputs": [
    {
     "output_type": "stream",
     "name": "stdout",
     "text": [
      "prediction: bicycle\n"
     ]
    },
    {
     "output_type": "execute_result",
     "data": {
      "text/plain": [
       "<matplotlib.image.AxesImage at 0x7f11fd34a580>"
      ]
     },
     "metadata": {},
     "execution_count": 7
    },
    {
     "output_type": "display_data",
     "data": {
      "text/plain": "<Figure size 432x288 with 1 Axes>",
      "image/svg+xml": "<?xml version=\"1.0\" encoding=\"utf-8\" standalone=\"no\"?>\n<!DOCTYPE svg PUBLIC \"-//W3C//DTD SVG 1.1//EN\"\n  \"http://www.w3.org/Graphics/SVG/1.1/DTD/svg11.dtd\">\n<!-- Created with matplotlib (https://matplotlib.org/) -->\n<svg height=\"248.518125pt\" version=\"1.1\" viewBox=\"0 0 251.565 248.518125\" width=\"251.565pt\" xmlns=\"http://www.w3.org/2000/svg\" xmlns:xlink=\"http://www.w3.org/1999/xlink\">\n <metadata>\n  <rdf:RDF xmlns:cc=\"http://creativecommons.org/ns#\" xmlns:dc=\"http://purl.org/dc/elements/1.1/\" xmlns:rdf=\"http://www.w3.org/1999/02/22-rdf-syntax-ns#\">\n   <cc:Work>\n    <dc:type rdf:resource=\"http://purl.org/dc/dcmitype/StillImage\"/>\n    <dc:date>2021-05-13T14:33:11.482542</dc:date>\n    <dc:format>image/svg+xml</dc:format>\n    <dc:creator>\n     <cc:Agent>\n      <dc:title>Matplotlib v3.3.1, https://matplotlib.org/</dc:title>\n     </cc:Agent>\n    </dc:creator>\n   </cc:Work>\n  </rdf:RDF>\n </metadata>\n <defs>\n  <style type=\"text/css\">*{stroke-linecap:butt;stroke-linejoin:round;}</style>\n </defs>\n <g id=\"figure_1\">\n  <g id=\"patch_1\">\n   <path d=\"M 0 248.518125 \nL 251.565 248.518125 \nL 251.565 0 \nL 0 0 \nz\n\" style=\"fill:none;\"/>\n  </g>\n  <g id=\"axes_1\">\n   <g id=\"patch_2\">\n    <path d=\"M 26.925 224.64 \nL 244.365 224.64 \nL 244.365 7.2 \nL 26.925 7.2 \nz\n\" style=\"fill:#ffffff;\"/>\n   </g>\n   <g clip-path=\"url(#p631a3d6fdf)\">\n    <image height=\"218\" id=\"imagef05d33e335\" transform=\"scale(1 -1)translate(0 -218)\" width=\"218\" x=\"26.925\" xlink:href=\"data:image/png;base64,\niVBORw0KGgoAAAANSUhEUgAAANoAAADaCAYAAADAHVzbAAAHgklEQVR4nO3db6xXBR3H8fPjXrkQ2mTyf0vFJkY15qyUFK0W5tywWgOdEWPiltRqSysbLUtX5oOy1FxRijO3etCTcv3TylmbCPMKXfuzDFJilNmfoWABF7j39qjVk/O9weV+fld4vZ5+OPd39PLmbL+z8/t1lnaWjzTAuJrU7ROAE4HQIEBoECA0CBAaBAgNAoQGAUKDAKFBgNAgQGgQIDQIEBoECA0ChAYBQoMAoUGA0CBAaBAgNAgQGgQIDQKEBgFCgwChQYDQIEBoECA0CBAaBAgNAnq7fQLd0jtn9piOH9m3v9yH9u4d08/n+OKKBgFCgwChQYDQIEBoECA0CBAaBLys76O9uOrNrdt7bvxZeewnTnt4TK89OHKo3C/9zZWt25RbXlke23n8qaM6JyYuVzQIEBoECA0ChAYBQoMAoUGA0CBgQt9H237XBeX+7PKvtW53vHBmeezC9R8s957Bcm72zRsu9/uvWN+6nfbt+lm269+7ttwn8n22SdOm1X/g1a9qnTqH6/+nQ08/U//s4aF67yJXNAgQGgQIDQKEBgFCgwChQYDQIKCztLN8pFsv/s8rF5f7xjva70U1TdOc9ZNrW7ez1wzULz7O91x6zj6rdVv7o4fKY7fsm1/um8+dXL/4yPj9Snfc1v4MYNM0zYNX317uCye/4qhf++f76+vCNY+uKffX3vJ8uR/e9acjPqf/lysaBAgNAoQGAUKDAKFBgNAgoKuPyfztDZ1y3zd8sNzPWfvb1m24y49MDG1/tnW7+Uury2O33tT++E/TNM0l73x/uU998Ilyr+xZWd9y2ba6Prfzf1n/tx3+/ozWbXhy/feh8/bd5d5/2Z3l/tel9XVl9a03tG6n3bOpPHY0rmgQIDQIEBoECA0ChAYBQoMAoUFAV++jjfTWj3MMN/XHjw0fOHAsTydmVv9LYzp+38yecp86hp+9e1n9UXibD9T3J6df0X7/sGmaphnefqSn9F931fOqRe2PTTVN08z8+nPlvvHm9hd410D9CM5I/6/L3RUNAoQGAUKDAKFBgNAgQGgQIDQI6Op9tFN21J2fPGlKuR9Ydn7rNuUHR/9M1ngbmnZSt0+h1cfO/Wm537h9eblPHd5xLE/niAz/6uly//t1ryn3vofafy/PLz6lPHZ2fzm7okGC0CBAaBAgNAgQGgQIDQKEBgFdvY82576Bcv/hR+r7aBd9dnPrNvDY9PLYoRf3lPtY9c6d07pdcvdj5bHbDv2r3Gc+8UK510/x1e55Zkm5P/D6+8t99eqPlvv0B9p/Z2P9uqlOX1+57/hU9+5fuqJBgNAgQGgQIDQIEBoECA0COks7y8f2nuo42nt1/RVCD33hy63bur+8rTz2x/2Lyn3SgVH+DZo5WM7fuuje1u2M3voj3Zbd+vFyn7Wpfnt/LIZOrt8if+v64u35pmk+OeP35f75f5zTut3Tf3F5bM/u+u35t1xcf+TbhtPr2yoLvvmB1m3+Ol/bBBOe0CBAaBAgNAgQGgQIDQKEBgET+j7aaBZuaX/K5465TwbPhP8YGqkf0unpdO/f9tHO7XX3fqh1O+Mzj4/ptV3RIEBoECA0CBAaBAgNAoQGAUKDgK5+3NxYbbz7Ta3b0Ofqr216ZH/93NWhpqfcb9ywptx7DrZvJ73U5VuXnfZp8NRibJrmsivr59E+PXtjuW/af2rrtnXfmeWxO/bPKPcXDk4t93lTR/mIwc74/V5c0SBAaBAgNAgQGgQIDQKEBgFCg4CX9fNo2za8sXXb+o67ymPft+Sqcj+8c9dRndNxr1PfZ+v01p+9OHKouMF4HHNFgwChQYDQIEBoECA0CBAaBAgNAib082g906eX+8NL72zdLty8tjz29J31d2nRYqS+7Xqi3icbjSsaBAgNAoQGAUKDAKFBgNAgYEK/vb9z7cJyX3DSo63bvPWTj/XpwFFzRYMAoUGA0CBAaBAgNAgQGgQIDQIm9MfNXf+H35V79TU/v1hUf4UPJLmiQYDQIEBoECA0CBAaBAgNAoQGAWN+Hq36SLjnVtXPk815985yv6Dv8XJfMmVP6/adD99QHjv7K/XPhmPJFQ0ChAYBQoMAoUGA0CBAaBAgNAgY9T7anpWLy/27t32xdZvb2/65i03TNN/YM6/cL19X3ws75Zo/t24D675aHjv/vGvLfcG1A+XeDA/VO/wPVzQIEBoECA0ChAYBQoMAoUGA0CBg9M91XLyonLevbP/8xPnfO1we2/vIlnIfTae3/Tbgtg31eT976X3lft6TV5X7rBV/LPeRwcFy58TiigYBQoMAoUGA0CBAaBAgNAiY0F/bNJ523XRhuW+67vZyX7Fibbl3Nj11xOfE8csVDQKEBgFCgwChQYDQIEBoECA0CDhh76ONptPXV+4eg+FIuKJBgNAgQGgQIDQIEBoECA0ChAYBo35t04nKfTKOJVc0CBAaBAgNAoQGAUKDAKFBgNAgQGgQIDQIEBoECA0ChAYBQoMAoUGA0CBAaBAgNAgQGgQIDQKEBgFCgwChQYDQIEBoECA0CBAaBAgNAoQGAUKDAKFBwL8B0VRBOg/Fx8sAAAAASUVORK5CYII=\" y=\"-6.64\"/>\n   </g>\n   <g id=\"matplotlib.axis_1\">\n    <g id=\"xtick_1\">\n     <g id=\"line2d_1\">\n      <defs>\n       <path d=\"M 0 0 \nL 0 3.5 \n\" id=\"mf9338d25a7\" style=\"stroke:#000000;stroke-width:0.8;\"/>\n      </defs>\n      <g>\n       <use style=\"stroke:#000000;stroke-width:0.8;\" x=\"30.807857\" xlink:href=\"#mf9338d25a7\" y=\"224.64\"/>\n      </g>\n     </g>\n     <g id=\"text_1\">\n      <!-- 0 -->\n      <g transform=\"translate(27.626607 239.238437)scale(0.1 -0.1)\">\n       <defs>\n        <path d=\"M 31.78125 66.40625 \nQ 24.171875 66.40625 20.328125 58.90625 \nQ 16.5 51.421875 16.5 36.375 \nQ 16.5 21.390625 20.328125 13.890625 \nQ 24.171875 6.390625 31.78125 6.390625 \nQ 39.453125 6.390625 43.28125 13.890625 \nQ 47.125 21.390625 47.125 36.375 \nQ 47.125 51.421875 43.28125 58.90625 \nQ 39.453125 66.40625 31.78125 66.40625 \nz\nM 31.78125 74.21875 \nQ 44.046875 74.21875 50.515625 64.515625 \nQ 56.984375 54.828125 56.984375 36.375 \nQ 56.984375 17.96875 50.515625 8.265625 \nQ 44.046875 -1.421875 31.78125 -1.421875 \nQ 19.53125 -1.421875 13.0625 8.265625 \nQ 6.59375 17.96875 6.59375 36.375 \nQ 6.59375 54.828125 13.0625 64.515625 \nQ 19.53125 74.21875 31.78125 74.21875 \nz\n\" id=\"DejaVuSans-48\"/>\n       </defs>\n       <use xlink:href=\"#DejaVuSans-48\"/>\n      </g>\n     </g>\n    </g>\n    <g id=\"xtick_2\">\n     <g id=\"line2d_2\">\n      <g>\n       <use style=\"stroke:#000000;stroke-width:0.8;\" x=\"69.636429\" xlink:href=\"#mf9338d25a7\" y=\"224.64\"/>\n      </g>\n     </g>\n     <g id=\"text_2\">\n      <!-- 5 -->\n      <g transform=\"translate(66.455179 239.238437)scale(0.1 -0.1)\">\n       <defs>\n        <path d=\"M 10.796875 72.90625 \nL 49.515625 72.90625 \nL 49.515625 64.59375 \nL 19.828125 64.59375 \nL 19.828125 46.734375 \nQ 21.96875 47.46875 24.109375 47.828125 \nQ 26.265625 48.1875 28.421875 48.1875 \nQ 40.625 48.1875 47.75 41.5 \nQ 54.890625 34.8125 54.890625 23.390625 \nQ 54.890625 11.625 47.5625 5.09375 \nQ 40.234375 -1.421875 26.90625 -1.421875 \nQ 22.3125 -1.421875 17.546875 -0.640625 \nQ 12.796875 0.140625 7.71875 1.703125 \nL 7.71875 11.625 \nQ 12.109375 9.234375 16.796875 8.0625 \nQ 21.484375 6.890625 26.703125 6.890625 \nQ 35.15625 6.890625 40.078125 11.328125 \nQ 45.015625 15.765625 45.015625 23.390625 \nQ 45.015625 31 40.078125 35.4375 \nQ 35.15625 39.890625 26.703125 39.890625 \nQ 22.75 39.890625 18.8125 39.015625 \nQ 14.890625 38.140625 10.796875 36.28125 \nz\n\" id=\"DejaVuSans-53\"/>\n       </defs>\n       <use xlink:href=\"#DejaVuSans-53\"/>\n      </g>\n     </g>\n    </g>\n    <g id=\"xtick_3\">\n     <g id=\"line2d_3\">\n      <g>\n       <use style=\"stroke:#000000;stroke-width:0.8;\" x=\"108.465\" xlink:href=\"#mf9338d25a7\" y=\"224.64\"/>\n      </g>\n     </g>\n     <g id=\"text_3\">\n      <!-- 10 -->\n      <g transform=\"translate(102.1025 239.238437)scale(0.1 -0.1)\">\n       <defs>\n        <path d=\"M 12.40625 8.296875 \nL 28.515625 8.296875 \nL 28.515625 63.921875 \nL 10.984375 60.40625 \nL 10.984375 69.390625 \nL 28.421875 72.90625 \nL 38.28125 72.90625 \nL 38.28125 8.296875 \nL 54.390625 8.296875 \nL 54.390625 0 \nL 12.40625 0 \nz\n\" id=\"DejaVuSans-49\"/>\n       </defs>\n       <use xlink:href=\"#DejaVuSans-49\"/>\n       <use x=\"63.623047\" xlink:href=\"#DejaVuSans-48\"/>\n      </g>\n     </g>\n    </g>\n    <g id=\"xtick_4\">\n     <g id=\"line2d_4\">\n      <g>\n       <use style=\"stroke:#000000;stroke-width:0.8;\" x=\"147.293571\" xlink:href=\"#mf9338d25a7\" y=\"224.64\"/>\n      </g>\n     </g>\n     <g id=\"text_4\">\n      <!-- 15 -->\n      <g transform=\"translate(140.931071 239.238437)scale(0.1 -0.1)\">\n       <use xlink:href=\"#DejaVuSans-49\"/>\n       <use x=\"63.623047\" xlink:href=\"#DejaVuSans-53\"/>\n      </g>\n     </g>\n    </g>\n    <g id=\"xtick_5\">\n     <g id=\"line2d_5\">\n      <g>\n       <use style=\"stroke:#000000;stroke-width:0.8;\" x=\"186.122143\" xlink:href=\"#mf9338d25a7\" y=\"224.64\"/>\n      </g>\n     </g>\n     <g id=\"text_5\">\n      <!-- 20 -->\n      <g transform=\"translate(179.759643 239.238437)scale(0.1 -0.1)\">\n       <defs>\n        <path d=\"M 19.1875 8.296875 \nL 53.609375 8.296875 \nL 53.609375 0 \nL 7.328125 0 \nL 7.328125 8.296875 \nQ 12.9375 14.109375 22.625 23.890625 \nQ 32.328125 33.6875 34.8125 36.53125 \nQ 39.546875 41.84375 41.421875 45.53125 \nQ 43.3125 49.21875 43.3125 52.78125 \nQ 43.3125 58.59375 39.234375 62.25 \nQ 35.15625 65.921875 28.609375 65.921875 \nQ 23.96875 65.921875 18.8125 64.3125 \nQ 13.671875 62.703125 7.8125 59.421875 \nL 7.8125 69.390625 \nQ 13.765625 71.78125 18.9375 73 \nQ 24.125 74.21875 28.421875 74.21875 \nQ 39.75 74.21875 46.484375 68.546875 \nQ 53.21875 62.890625 53.21875 53.421875 \nQ 53.21875 48.921875 51.53125 44.890625 \nQ 49.859375 40.875 45.40625 35.40625 \nQ 44.1875 33.984375 37.640625 27.21875 \nQ 31.109375 20.453125 19.1875 8.296875 \nz\n\" id=\"DejaVuSans-50\"/>\n       </defs>\n       <use xlink:href=\"#DejaVuSans-50\"/>\n       <use x=\"63.623047\" xlink:href=\"#DejaVuSans-48\"/>\n      </g>\n     </g>\n    </g>\n    <g id=\"xtick_6\">\n     <g id=\"line2d_6\">\n      <g>\n       <use style=\"stroke:#000000;stroke-width:0.8;\" x=\"224.950714\" xlink:href=\"#mf9338d25a7\" y=\"224.64\"/>\n      </g>\n     </g>\n     <g id=\"text_6\">\n      <!-- 25 -->\n      <g transform=\"translate(218.588214 239.238437)scale(0.1 -0.1)\">\n       <use xlink:href=\"#DejaVuSans-50\"/>\n       <use x=\"63.623047\" xlink:href=\"#DejaVuSans-53\"/>\n      </g>\n     </g>\n    </g>\n   </g>\n   <g id=\"matplotlib.axis_2\">\n    <g id=\"ytick_1\">\n     <g id=\"line2d_7\">\n      <defs>\n       <path d=\"M 0 0 \nL -3.5 0 \n\" id=\"mee01b42386\" style=\"stroke:#000000;stroke-width:0.8;\"/>\n      </defs>\n      <g>\n       <use style=\"stroke:#000000;stroke-width:0.8;\" x=\"26.925\" xlink:href=\"#mee01b42386\" y=\"11.082857\"/>\n      </g>\n     </g>\n     <g id=\"text_7\">\n      <!-- 0 -->\n      <g transform=\"translate(13.5625 14.882076)scale(0.1 -0.1)\">\n       <use xlink:href=\"#DejaVuSans-48\"/>\n      </g>\n     </g>\n    </g>\n    <g id=\"ytick_2\">\n     <g id=\"line2d_8\">\n      <g>\n       <use style=\"stroke:#000000;stroke-width:0.8;\" x=\"26.925\" xlink:href=\"#mee01b42386\" y=\"49.911429\"/>\n      </g>\n     </g>\n     <g id=\"text_8\">\n      <!-- 5 -->\n      <g transform=\"translate(13.5625 53.710647)scale(0.1 -0.1)\">\n       <use xlink:href=\"#DejaVuSans-53\"/>\n      </g>\n     </g>\n    </g>\n    <g id=\"ytick_3\">\n     <g id=\"line2d_9\">\n      <g>\n       <use style=\"stroke:#000000;stroke-width:0.8;\" x=\"26.925\" xlink:href=\"#mee01b42386\" y=\"88.74\"/>\n      </g>\n     </g>\n     <g id=\"text_9\">\n      <!-- 10 -->\n      <g transform=\"translate(7.2 92.539219)scale(0.1 -0.1)\">\n       <use xlink:href=\"#DejaVuSans-49\"/>\n       <use x=\"63.623047\" xlink:href=\"#DejaVuSans-48\"/>\n      </g>\n     </g>\n    </g>\n    <g id=\"ytick_4\">\n     <g id=\"line2d_10\">\n      <g>\n       <use style=\"stroke:#000000;stroke-width:0.8;\" x=\"26.925\" xlink:href=\"#mee01b42386\" y=\"127.568571\"/>\n      </g>\n     </g>\n     <g id=\"text_10\">\n      <!-- 15 -->\n      <g transform=\"translate(7.2 131.36779)scale(0.1 -0.1)\">\n       <use xlink:href=\"#DejaVuSans-49\"/>\n       <use x=\"63.623047\" xlink:href=\"#DejaVuSans-53\"/>\n      </g>\n     </g>\n    </g>\n    <g id=\"ytick_5\">\n     <g id=\"line2d_11\">\n      <g>\n       <use style=\"stroke:#000000;stroke-width:0.8;\" x=\"26.925\" xlink:href=\"#mee01b42386\" y=\"166.397143\"/>\n      </g>\n     </g>\n     <g id=\"text_11\">\n      <!-- 20 -->\n      <g transform=\"translate(7.2 170.196362)scale(0.1 -0.1)\">\n       <use xlink:href=\"#DejaVuSans-50\"/>\n       <use x=\"63.623047\" xlink:href=\"#DejaVuSans-48\"/>\n      </g>\n     </g>\n    </g>\n    <g id=\"ytick_6\">\n     <g id=\"line2d_12\">\n      <g>\n       <use style=\"stroke:#000000;stroke-width:0.8;\" x=\"26.925\" xlink:href=\"#mee01b42386\" y=\"205.225714\"/>\n      </g>\n     </g>\n     <g id=\"text_12\">\n      <!-- 25 -->\n      <g transform=\"translate(7.2 209.024933)scale(0.1 -0.1)\">\n       <use xlink:href=\"#DejaVuSans-50\"/>\n       <use x=\"63.623047\" xlink:href=\"#DejaVuSans-53\"/>\n      </g>\n     </g>\n    </g>\n   </g>\n   <g id=\"patch_3\">\n    <path d=\"M 26.925 224.64 \nL 26.925 7.2 \n\" style=\"fill:none;stroke:#000000;stroke-linecap:square;stroke-linejoin:miter;stroke-width:0.8;\"/>\n   </g>\n   <g id=\"patch_4\">\n    <path d=\"M 244.365 224.64 \nL 244.365 7.2 \n\" style=\"fill:none;stroke:#000000;stroke-linecap:square;stroke-linejoin:miter;stroke-width:0.8;\"/>\n   </g>\n   <g id=\"patch_5\">\n    <path d=\"M 26.925 224.64 \nL 244.365 224.64 \n\" style=\"fill:none;stroke:#000000;stroke-linecap:square;stroke-linejoin:miter;stroke-width:0.8;\"/>\n   </g>\n   <g id=\"patch_6\">\n    <path d=\"M 26.925 7.2 \nL 244.365 7.2 \n\" style=\"fill:none;stroke:#000000;stroke-linecap:square;stroke-linejoin:miter;stroke-width:0.8;\"/>\n   </g>\n  </g>\n </g>\n <defs>\n  <clipPath id=\"p631a3d6fdf\">\n   <rect height=\"217.44\" width=\"217.44\" x=\"26.925\" y=\"7.2\"/>\n  </clipPath>\n </defs>\n</svg>\n",
      "image/png": "[encoded data removed]"
     },
     "metadata": {
      "needs_background": "light"
     }
    }
   ],
   "source": [
    "model.eval()\n",
    "outputs = model(x)\n",
    "_, predicted = torch.max(outputs, 1)\n",
    "\n",
    "print(f'prediction: {CLASSES[predicted[i]]}')\n",
    "imshow(x.view(28, 28).cpu())"
   ]
  },
  {
   "cell_type": "code",
   "execution_count": 8,
   "metadata": {},
   "outputs": [
    {
     "output_type": "execute_result",
     "data": {
      "text/plain": [
       "tensor([[-0.5209,  6.9917,  0.2599,  0.1100, -2.9612,  0.8653, -2.3611, -1.7210,\n",
       "          0.1789, -0.8713]], device='cuda:0', grad_fn=<AddmmBackward>)"
      ]
     },
     "metadata": {},
     "execution_count": 8
    }
   ],
   "source": [
    "outputs"
   ]
  },
  {
   "cell_type": "code",
   "execution_count": null,
   "metadata": {},
   "outputs": [],
   "source": []
  }
 ],
 "metadata": {
  "kernelspec": {
   "name": "python38564bitfastaiconda4afcf4cf190c4e07973d2548466d7b94",
   "display_name": "Python 3.8.5 64-bit ('fastai': conda)"
  },
  "language_info": {
   "codemirror_mode": {
    "name": "ipython",
    "version": 3
   },
   "file_extension": ".py",
   "mimetype": "text/x-python",
   "name": "python",
   "nbconvert_exporter": "python",
   "pygments_lexer": "ipython3",
   "version": "3.8.5"
  },
  "metadata": {
   "interpreter": {
    "hash": "89b42bf818aba7caf36f808f4e4d121a5375763d533b39721a76e70b1f011c6b"
   }
  }
 },
 "nbformat": 4,
 "nbformat_minor": 4
}