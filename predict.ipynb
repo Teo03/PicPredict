{
 "cells": [
  {
   "cell_type": "code",
   "execution_count": 1,
   "metadata": {},
   "outputs": [],
   "source": [
    "import os\n",
    "from config import *\n",
    "from tqdm import tqdm\n",
    "from utils.dataset import DrawingsDataset\n",
    "from utils.data_utils import load_dataset\n",
    "from matplotlib.pyplot import imshow, show\n",
    "\n",
    "import torch\n",
    "from model import Net"
   ]
  },
  {
   "cell_type": "code",
   "execution_count": 2,
   "metadata": {},
   "outputs": [
    {
     "output_type": "execute_result",
     "data": {
      "text/plain": [
       "<All keys matched successfully>"
      ]
     },
     "metadata": {},
     "execution_count": 2
    }
   ],
   "source": [
    "model = Net().cuda()\n",
    "model.load_state_dict(torch.load('./models/model.pth'))"
   ]
  },
  {
   "source": [
    "# Predict from the test dataset"
   ],
   "cell_type": "markdown",
   "metadata": {}
  },
  {
   "cell_type": "code",
   "execution_count": 3,
   "metadata": {},
   "outputs": [
    {
     "output_type": "stream",
     "name": "stdout",
     "text": [
      "label: smiley_face\nprediction: smiley_face\n"
     ]
    },
    {
     "output_type": "display_data",
     "data": {
      "text/plain": "<Figure size 432x288 with 1 Axes>",
      "image/svg+xml": "<?xml version=\"1.0\" encoding=\"utf-8\" standalone=\"no\"?>\n<!DOCTYPE svg PUBLIC \"-//W3C//DTD SVG 1.1//EN\"\n  \"http://www.w3.org/Graphics/SVG/1.1/DTD/svg11.dtd\">\n<!-- Created with matplotlib (https://matplotlib.org/) -->\n<svg height=\"248.518125pt\" version=\"1.1\" viewBox=\"0 0 251.565 248.518125\" width=\"251.565pt\" xmlns=\"http://www.w3.org/2000/svg\" xmlns:xlink=\"http://www.w3.org/1999/xlink\">\n <metadata>\n  <rdf:RDF xmlns:cc=\"http://creativecommons.org/ns#\" xmlns:dc=\"http://purl.org/dc/elements/1.1/\" xmlns:rdf=\"http://www.w3.org/1999/02/22-rdf-syntax-ns#\">\n   <cc:Work>\n    <dc:type rdf:resource=\"http://purl.org/dc/dcmitype/StillImage\"/>\n    <dc:date>2021-06-20T12:42:59.563336</dc:date>\n    <dc:format>image/svg+xml</dc:format>\n    <dc:creator>\n     <cc:Agent>\n      <dc:title>Matplotlib v3.3.1, https://matplotlib.org/</dc:title>\n     </cc:Agent>\n    </dc:creator>\n   </cc:Work>\n  </rdf:RDF>\n </metadata>\n <defs>\n  <style type=\"text/css\">*{stroke-linecap:butt;stroke-linejoin:round;}</style>\n </defs>\n <g id=\"figure_1\">\n  <g id=\"patch_1\">\n   <path d=\"M 0 248.518125 \nL 251.565 248.518125 \nL 251.565 0 \nL 0 0 \nz\n\" style=\"fill:none;\"/>\n  </g>\n  <g id=\"axes_1\">\n   <g id=\"patch_2\">\n    <path d=\"M 26.925 224.64 \nL 244.365 224.64 \nL 244.365 7.2 \nL 26.925 7.2 \nz\n\" style=\"fill:#ffffff;\"/>\n   </g>\n   <g clip-path=\"url(#paf623c6b35)\">\n    <image height=\"218\" id=\"imaged3be54f2c9\" transform=\"scale(1 -1)translate(0 -218)\" width=\"218\" x=\"26.925\" xlink:href=\"data:image/png;base64,\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\" y=\"-6.64\"/>\n   </g>\n   <g id=\"matplotlib.axis_1\">\n    <g id=\"xtick_1\">\n     <g id=\"line2d_1\">\n      <defs>\n       <path d=\"M 0 0 \nL 0 3.5 \n\" id=\"m20fc21f3fd\" style=\"stroke:#000000;stroke-width:0.8;\"/>\n      </defs>\n      <g>\n       <use style=\"stroke:#000000;stroke-width:0.8;\" x=\"30.807857\" xlink:href=\"#m20fc21f3fd\" y=\"224.64\"/>\n      </g>\n     </g>\n     <g id=\"text_1\">\n      <!-- 0 -->\n      <g transform=\"translate(27.626607 239.238437)scale(0.1 -0.1)\">\n       <defs>\n        <path d=\"M 31.78125 66.40625 \nQ 24.171875 66.40625 20.328125 58.90625 \nQ 16.5 51.421875 16.5 36.375 \nQ 16.5 21.390625 20.328125 13.890625 \nQ 24.171875 6.390625 31.78125 6.390625 \nQ 39.453125 6.390625 43.28125 13.890625 \nQ 47.125 21.390625 47.125 36.375 \nQ 47.125 51.421875 43.28125 58.90625 \nQ 39.453125 66.40625 31.78125 66.40625 \nz\nM 31.78125 74.21875 \nQ 44.046875 74.21875 50.515625 64.515625 \nQ 56.984375 54.828125 56.984375 36.375 \nQ 56.984375 17.96875 50.515625 8.265625 \nQ 44.046875 -1.421875 31.78125 -1.421875 \nQ 19.53125 -1.421875 13.0625 8.265625 \nQ 6.59375 17.96875 6.59375 36.375 \nQ 6.59375 54.828125 13.0625 64.515625 \nQ 19.53125 74.21875 31.78125 74.21875 \nz\n\" id=\"DejaVuSans-48\"/>\n       </defs>\n       <use xlink:href=\"#DejaVuSans-48\"/>\n      </g>\n     </g>\n    </g>\n    <g id=\"xtick_2\">\n     <g id=\"line2d_2\">\n      <g>\n       <use style=\"stroke:#000000;stroke-width:0.8;\" x=\"69.636429\" xlink:href=\"#m20fc21f3fd\" y=\"224.64\"/>\n      </g>\n     </g>\n     <g id=\"text_2\">\n      <!-- 5 -->\n      <g transform=\"translate(66.455179 239.238437)scale(0.1 -0.1)\">\n       <defs>\n        <path d=\"M 10.796875 72.90625 \nL 49.515625 72.90625 \nL 49.515625 64.59375 \nL 19.828125 64.59375 \nL 19.828125 46.734375 \nQ 21.96875 47.46875 24.109375 47.828125 \nQ 26.265625 48.1875 28.421875 48.1875 \nQ 40.625 48.1875 47.75 41.5 \nQ 54.890625 34.8125 54.890625 23.390625 \nQ 54.890625 11.625 47.5625 5.09375 \nQ 40.234375 -1.421875 26.90625 -1.421875 \nQ 22.3125 -1.421875 17.546875 -0.640625 \nQ 12.796875 0.140625 7.71875 1.703125 \nL 7.71875 11.625 \nQ 12.109375 9.234375 16.796875 8.0625 \nQ 21.484375 6.890625 26.703125 6.890625 \nQ 35.15625 6.890625 40.078125 11.328125 \nQ 45.015625 15.765625 45.015625 23.390625 \nQ 45.015625 31 40.078125 35.4375 \nQ 35.15625 39.890625 26.703125 39.890625 \nQ 22.75 39.890625 18.8125 39.015625 \nQ 14.890625 38.140625 10.796875 36.28125 \nz\n\" id=\"DejaVuSans-53\"/>\n       </defs>\n       <use xlink:href=\"#DejaVuSans-53\"/>\n      </g>\n     </g>\n    </g>\n    <g id=\"xtick_3\">\n     <g id=\"line2d_3\">\n      <g>\n       <use style=\"stroke:#000000;stroke-width:0.8;\" x=\"108.465\" xlink:href=\"#m20fc21f3fd\" y=\"224.64\"/>\n      </g>\n     </g>\n     <g id=\"text_3\">\n      <!-- 10 -->\n      <g transform=\"translate(102.1025 239.238437)scale(0.1 -0.1)\">\n       <defs>\n        <path d=\"M 12.40625 8.296875 \nL 28.515625 8.296875 \nL 28.515625 63.921875 \nL 10.984375 60.40625 \nL 10.984375 69.390625 \nL 28.421875 72.90625 \nL 38.28125 72.90625 \nL 38.28125 8.296875 \nL 54.390625 8.296875 \nL 54.390625 0 \nL 12.40625 0 \nz\n\" id=\"DejaVuSans-49\"/>\n       </defs>\n       <use xlink:href=\"#DejaVuSans-49\"/>\n       <use x=\"63.623047\" xlink:href=\"#DejaVuSans-48\"/>\n      </g>\n     </g>\n    </g>\n    <g id=\"xtick_4\">\n     <g id=\"line2d_4\">\n      <g>\n       <use style=\"stroke:#000000;stroke-width:0.8;\" x=\"147.293571\" xlink:href=\"#m20fc21f3fd\" y=\"224.64\"/>\n      </g>\n     </g>\n     <g id=\"text_4\">\n      <!-- 15 -->\n      <g transform=\"translate(140.931071 239.238437)scale(0.1 -0.1)\">\n       <use xlink:href=\"#DejaVuSans-49\"/>\n       <use x=\"63.623047\" xlink:href=\"#DejaVuSans-53\"/>\n      </g>\n     </g>\n    </g>\n    <g id=\"xtick_5\">\n     <g id=\"line2d_5\">\n      <g>\n       <use style=\"stroke:#000000;stroke-width:0.8;\" x=\"186.122143\" xlink:href=\"#m20fc21f3fd\" y=\"224.64\"/>\n      </g>\n     </g>\n     <g id=\"text_5\">\n      <!-- 20 -->\n      <g transform=\"translate(179.759643 239.238437)scale(0.1 -0.1)\">\n       <defs>\n        <path d=\"M 19.1875 8.296875 \nL 53.609375 8.296875 \nL 53.609375 0 \nL 7.328125 0 \nL 7.328125 8.296875 \nQ 12.9375 14.109375 22.625 23.890625 \nQ 32.328125 33.6875 34.8125 36.53125 \nQ 39.546875 41.84375 41.421875 45.53125 \nQ 43.3125 49.21875 43.3125 52.78125 \nQ 43.3125 58.59375 39.234375 62.25 \nQ 35.15625 65.921875 28.609375 65.921875 \nQ 23.96875 65.921875 18.8125 64.3125 \nQ 13.671875 62.703125 7.8125 59.421875 \nL 7.8125 69.390625 \nQ 13.765625 71.78125 18.9375 73 \nQ 24.125 74.21875 28.421875 74.21875 \nQ 39.75 74.21875 46.484375 68.546875 \nQ 53.21875 62.890625 53.21875 53.421875 \nQ 53.21875 48.921875 51.53125 44.890625 \nQ 49.859375 40.875 45.40625 35.40625 \nQ 44.1875 33.984375 37.640625 27.21875 \nQ 31.109375 20.453125 19.1875 8.296875 \nz\n\" id=\"DejaVuSans-50\"/>\n       </defs>\n       <use xlink:href=\"#DejaVuSans-50\"/>\n       <use x=\"63.623047\" xlink:href=\"#DejaVuSans-48\"/>\n      </g>\n     </g>\n    </g>\n    <g id=\"xtick_6\">\n     <g id=\"line2d_6\">\n      <g>\n       <use style=\"stroke:#000000;stroke-width:0.8;\" x=\"224.950714\" xlink:href=\"#m20fc21f3fd\" y=\"224.64\"/>\n      </g>\n     </g>\n     <g id=\"text_6\">\n      <!-- 25 -->\n      <g transform=\"translate(218.588214 239.238437)scale(0.1 -0.1)\">\n       <use xlink:href=\"#DejaVuSans-50\"/>\n       <use x=\"63.623047\" xlink:href=\"#DejaVuSans-53\"/>\n      </g>\n     </g>\n    </g>\n   </g>\n   <g id=\"matplotlib.axis_2\">\n    <g id=\"ytick_1\">\n     <g id=\"line2d_7\">\n      <defs>\n       <path d=\"M 0 0 \nL -3.5 0 \n\" id=\"mc29a265606\" style=\"stroke:#000000;stroke-width:0.8;\"/>\n      </defs>\n      <g>\n       <use style=\"stroke:#000000;stroke-width:0.8;\" x=\"26.925\" xlink:href=\"#mc29a265606\" y=\"11.082857\"/>\n      </g>\n     </g>\n     <g id=\"text_7\">\n      <!-- 0 -->\n      <g transform=\"translate(13.5625 14.882076)scale(0.1 -0.1)\">\n       <use xlink:href=\"#DejaVuSans-48\"/>\n      </g>\n     </g>\n    </g>\n    <g id=\"ytick_2\">\n     <g id=\"line2d_8\">\n      <g>\n       <use style=\"stroke:#000000;stroke-width:0.8;\" x=\"26.925\" xlink:href=\"#mc29a265606\" y=\"49.911429\"/>\n      </g>\n     </g>\n     <g id=\"text_8\">\n      <!-- 5 -->\n      <g transform=\"translate(13.5625 53.710647)scale(0.1 -0.1)\">\n       <use xlink:href=\"#DejaVuSans-53\"/>\n      </g>\n     </g>\n    </g>\n    <g id=\"ytick_3\">\n     <g id=\"line2d_9\">\n      <g>\n       <use style=\"stroke:#000000;stroke-width:0.8;\" x=\"26.925\" xlink:href=\"#mc29a265606\" y=\"88.74\"/>\n      </g>\n     </g>\n     <g id=\"text_9\">\n      <!-- 10 -->\n      <g transform=\"translate(7.2 92.539219)scale(0.1 -0.1)\">\n       <use xlink:href=\"#DejaVuSans-49\"/>\n       <use x=\"63.623047\" xlink:href=\"#DejaVuSans-48\"/>\n      </g>\n     </g>\n    </g>\n    <g id=\"ytick_4\">\n     <g id=\"line2d_10\">\n      <g>\n       <use style=\"stroke:#000000;stroke-width:0.8;\" x=\"26.925\" xlink:href=\"#mc29a265606\" y=\"127.568571\"/>\n      </g>\n     </g>\n     <g id=\"text_10\">\n      <!-- 15 -->\n      <g transform=\"translate(7.2 131.36779)scale(0.1 -0.1)\">\n       <use xlink:href=\"#DejaVuSans-49\"/>\n       <use x=\"63.623047\" xlink:href=\"#DejaVuSans-53\"/>\n      </g>\n     </g>\n    </g>\n    <g id=\"ytick_5\">\n     <g id=\"line2d_11\">\n      <g>\n       <use style=\"stroke:#000000;stroke-width:0.8;\" x=\"26.925\" xlink:href=\"#mc29a265606\" y=\"166.397143\"/>\n      </g>\n     </g>\n     <g id=\"text_11\">\n      <!-- 20 -->\n      <g transform=\"translate(7.2 170.196362)scale(0.1 -0.1)\">\n       <use xlink:href=\"#DejaVuSans-50\"/>\n       <use x=\"63.623047\" xlink:href=\"#DejaVuSans-48\"/>\n      </g>\n     </g>\n    </g>\n    <g id=\"ytick_6\">\n     <g id=\"line2d_12\">\n      <g>\n       <use style=\"stroke:#000000;stroke-width:0.8;\" x=\"26.925\" xlink:href=\"#mc29a265606\" y=\"205.225714\"/>\n      </g>\n     </g>\n     <g id=\"text_12\">\n      <!-- 25 -->\n      <g transform=\"translate(7.2 209.024933)scale(0.1 -0.1)\">\n       <use xlink:href=\"#DejaVuSans-50\"/>\n       <use x=\"63.623047\" xlink:href=\"#DejaVuSans-53\"/>\n      </g>\n     </g>\n    </g>\n   </g>\n   <g id=\"patch_3\">\n    <path d=\"M 26.925 224.64 \nL 26.925 7.2 \n\" style=\"fill:none;stroke:#000000;stroke-linecap:square;stroke-linejoin:miter;stroke-width:0.8;\"/>\n   </g>\n   <g id=\"patch_4\">\n    <path d=\"M 244.365 224.64 \nL 244.365 7.2 \n\" style=\"fill:none;stroke:#000000;stroke-linecap:square;stroke-linejoin:miter;stroke-width:0.8;\"/>\n   </g>\n   <g id=\"patch_5\">\n    <path d=\"M 26.925 224.64 \nL 244.365 224.64 \n\" style=\"fill:none;stroke:#000000;stroke-linecap:square;stroke-linejoin:miter;stroke-width:0.8;\"/>\n   </g>\n   <g id=\"patch_6\">\n    <path d=\"M 26.925 7.2 \nL 244.365 7.2 \n\" style=\"fill:none;stroke:#000000;stroke-linecap:square;stroke-linejoin:miter;stroke-width:0.8;\"/>\n   </g>\n  </g>\n </g>\n <defs>\n  <clipPath id=\"paf623c6b35\">\n   <rect height=\"217.44\" width=\"217.44\" x=\"26.925\" y=\"7.2\"/>\n  </clipPath>\n </defs>\n</svg>\n",
      "image/png": "[encoded data removed]"
     },
     "metadata": {
      "needs_background": "light"
     }
    }
   ],
   "source": [
    "test_data = DrawingsDataset(mtype=\"test\")\n",
    "test_loader = torch.utils.data.DataLoader(test_data, batch_size=1, shuffle=True)\n",
    "\n",
    "with torch.no_grad():\n",
    "    dataiter = iter(test_loader)\n",
    "\n",
    "    drawings, labels = dataiter.next()\n",
    "    drawings = drawings.view(1, 1, IMAGE_SIZE, IMAGE_SIZE).cuda()\n",
    "    drawings /= 255.0\n",
    "\n",
    "    model.eval()\n",
    "    outputs = model(drawings)\n",
    "    _, predicted = torch.max(outputs, 1)\n",
    "\n",
    "    i = 0\n",
    "\n",
    "    imshow(drawings[i].view(28, 28).cpu())\n",
    "    print(f'label: {CLASSES[labels[i]]}')\n",
    "    print(f'prediction: {CLASSES[predicted[i]]}')"
   ]
  },
  {
   "source": [
    "outputs"
   ],
   "cell_type": "code",
   "metadata": {},
   "execution_count": 4,
   "outputs": [
    {
     "output_type": "execute_result",
     "data": {
      "text/plain": [
       "tensor([[ 2.8259, -6.7565, -4.8189,  0.1872, -2.0063, -5.5847,  0.2283, 17.1126,\n",
       "         -0.1136, -1.0552]], device='cuda:0')"
      ]
     },
     "metadata": {},
     "execution_count": 4
    }
   ]
  },
  {
   "source": [
    "# Predict from custom data"
   ],
   "cell_type": "markdown",
   "metadata": {}
  },
  {
   "cell_type": "code",
   "execution_count": 5,
   "metadata": {},
   "outputs": [],
   "source": [
    "x = [[  0.,   0.,   0.,   0.,   0.,   0.,   0.,   0.,   0.,   0.,   0.,\n",
    "            0.,   0.,   0.,   0.,   0.,   0.,   0.,   0.,   0.,   0.,   0.,\n",
    "            0.,   0.,   0.,   0.,   0.,   0.],\n",
    "         [  0.,   0.,   0.,   0.,   0.,   0.,   0.,   0.,   0.,   0.,   0.,\n",
    "            0.,   0.,   0.,   0.,   0.,   0.,   0.,   0.,   0.,   0.,   0.,\n",
    "            0.,   0.,   0.,   0.,   0.,   0.],\n",
    "         [  0.,   0.,   0.,   0.,   0.,   0.,   0.,   0.,   0.,   0.,   0.,\n",
    "            0.,   0.,   0.,   0.,   0.,   0.,   0.,   0.,   0.,   0.,   0.,\n",
    "            0.,   0.,   0.,   0.,   0.,   0.],\n",
    "         [  0.,   0.,   0.,   0.,   0.,   0.,   0.,   0.,   0.,   0.,   0.,\n",
    "            0.,   0.,   0.,   0.,   0.,   0.,   0.,   0.,   0.,   0.,   0.,\n",
    "            0.,   0.,   0.,   0.,   0.,   0.],\n",
    "         [  0.,   0.,   0.,   0.,   0.,   0.,   0.,   0.,   0.,   5.,   0.,\n",
    "            0.,   0.,   0.,   0.,   0.,   0.,   0.,   0.,   0.,   0.,   0.,\n",
    "            0.,   0.,   0.,   0.,   0.,   0.],\n",
    "         [  0.,   0.,   0.,   0.,   0.,   0.,   0.,   0., 109., 249.,  43.,\n",
    "            0.,   0.,   0.,   0.,   0.,   0.,   0.,   0.,   0.,   0.,   0.,\n",
    "            0.,   0.,   0.,   0.,   0.,   0.],\n",
    "         [  0.,  42., 132.,  52.,   0.,   0.,   3., 147., 255., 166.,   5.,\n",
    "            0.,   0.,   0.,   0.,   0.,   0.,   0.,   0.,   0.,   0.,   0.,\n",
    "            0.,   0.,   0.,   0.,   0.,   0.],\n",
    "         [  0.,  74., 245., 255., 216.,  75., 178., 255., 145.,   2.,   0.,\n",
    "            0.,   0.,   0.,   0.,   0.,   0.,   0.,   0.,   0.,   0.,   0.,\n",
    "            0.,   0.,   0.,   0.,   0.,   0.],\n",
    "         [  0.,   0.,  12.,  93., 180., 248., 250.,  92.,   0.,   0.,   0.,\n",
    "            0.,   0.,   0.,   0.,   0.,   0.,   0.,   0.,   0.,   0.,   0.,\n",
    "            0.,   0.,   0.,   0.,   0.,   0.],\n",
    "         [  0.,   0.,   0.,   0.,   0., 227., 208.,   0.,   0.,   0.,   0.,\n",
    "            0.,   0.,   0.,   0.,   0.,   0.,   0.,   0.,   0.,   0.,   0.,\n",
    "            0.,   0.,   0.,   0.,   0.,   0.],\n",
    "         [  0.,   0.,   0.,   0.,   0., 105., 255.,  52.,   0.,   0.,   0.,\n",
    "            0.,   0.,   0.,   0.,   0.,   0.,   0.,   0.,   0.,   0.,   0.,\n",
    "            0.,   0.,   0.,   0.,   0.,   0.],\n",
    "         [  0.,   0.,   0.,   0.,   0.,  12., 240., 158.,   0.,   0.,   0.,\n",
    "            0.,   0.,   0.,   0.,   0.,   0.,   0.,   0.,   0.,   0.,   0.,\n",
    "            0.,   0.,   0.,   0.,   0.,   0.],\n",
    "         [  0.,   0.,   0.,   0.,   0.,   0., 143., 248.,  22.,   0.,   0.,\n",
    "            0.,   0.,   0.,   0.,   0.,   0.,   0.,   1.,   4.,   0.,   0.,\n",
    "            0.,   0.,   0.,   0.,   0.,   0.],\n",
    "         [  0.,   0.,   0.,   0.,   0.,   0.,  80., 254., 228., 226., 104.,\n",
    "           98.,  85.,  85.,  85.,  85.,  86., 102., 200., 249., 227., 208.,\n",
    "          194., 186., 198., 114.,   0.,   0.],\n",
    "         [  0.,   0.,   0.,   0.,   0.,   0., 199., 255., 255., 255., 255.,\n",
    "          255., 255., 255., 255., 255., 255., 255., 255., 254., 255., 255.,\n",
    "          255., 255., 254., 113.,   0.,   0.],\n",
    "         [  0.,   0.,   0.,   0.,   0.,  72., 249., 196., 135., 127., 149.,\n",
    "          233., 245.,  86.,  34.,  34.,  34.,  44., 208., 255., 208., 143.,\n",
    "          124., 193., 255., 119.,   0.,   0.],\n",
    "         [  0.,   0.,   0.,   0.,   7., 226., 203.,  11.,   0.,   0.,   0.,\n",
    "           18., 209., 240.,  34.,   0.,   0., 168., 239.,  78.,   1.,   0.,\n",
    "            0.,   5., 157., 255.,  92.,   0.],\n",
    "         [  0.,   0.,   0.,   0.,  91., 255.,  60.,   0.,   0.,   0.,   0.,\n",
    "            0.,  48., 255.,  83.,   0.,   0., 216., 174.,   0.,   0.,   0.,\n",
    "            0.,   0.,  34., 255.,  92.,   0.],\n",
    "         [  0.,   0.,   0.,   0., 126., 250.,   0.,   0.,   0.,   0.,   0.,\n",
    "            0.,  39., 255.,  83.,   0.,   0., 154., 233.,   2.,   0.,   0.,\n",
    "            0.,  34., 191., 252.,  40.,   0.],\n",
    "         [  0.,   0.,   0.,   0., 122., 251.,   6.,   0.,   0.,   0.,   0.,\n",
    "            0.,  88., 255.,  62.,   0.,   0.,  74., 255., 169.,  87.,  93.,\n",
    "          165., 247., 238.,  84.,   0.,   0.],\n",
    "         [  0.,   0.,   0.,   0.,  69., 255., 146.,   2.,   0.,   0.,   0.,\n",
    "           27., 225., 205.,   1.,   0.,   0.,   0., 119., 239., 255., 255.,\n",
    "          230., 142.,  21.,   0.,   0.,   0.],\n",
    "         [  0.,   0.,   0.,   0.,   0., 131., 255., 212., 110., 102., 130.,\n",
    "          231., 238.,  44.,   0.,   0.,   0.,   0.,   0.,   8.,  34.,  31.,\n",
    "            2.,   0.,   0.,   0.,   0.,   0.],\n",
    "         [  0.,   0.,   0.,   0.,   0.,   0.,  76., 209., 255., 255., 252.,\n",
    "          174.,  44.,   0.,   0.,   0.,   0.,   0.,   0.,   0.,   0.,   0.,\n",
    "            0.,   0.,   0.,   0.,   0.,   0.],\n",
    "         [  0.,   0.,   0.,   0.,   0.,   0.,   0.,   0.,  17.,  17.,  10.,\n",
    "            0.,   0.,   0.,   0.,   0.,   0.,   0.,   0.,   0.,   0.,   0.,\n",
    "            0.,   0.,   0.,   0.,   0.,   0.],\n",
    "         [  0.,   0.,   0.,   0.,   0.,   0.,   0.,   0.,   0.,   0.,   0.,\n",
    "            0.,   0.,   0.,   0.,   0.,   0.,   0.,   0.,   0.,   0.,   0.,\n",
    "            0.,   0.,   0.,   0.,   0.,   0.],\n",
    "         [  0.,   0.,   0.,   0.,   0.,   0.,   0.,   0.,   0.,   0.,   0.,\n",
    "            0.,   0.,   0.,   0.,   0.,   0.,   0.,   0.,   0.,   0.,   0.,\n",
    "            0.,   0.,   0.,   0.,   0.,   0.],\n",
    "         [  0.,   0.,   0.,   0.,   0.,   0.,   0.,   0.,   0.,   0.,   0.,\n",
    "            0.,   0.,   0.,   0.,   0.,   0.,   0.,   0.,   0.,   0.,   0.,\n",
    "            0.,   0.,   0.,   0.,   0.,   0.],\n",
    "         [  0.,   0.,   0.,   0.,   0.,   0.,   0.,   0.,   0.,   0.,   0.,\n",
    "            0.,   0.,   0.,   0.,   0.,   0.,   0.,   0.,   0.,   0.,   0.,\n",
    "            0.,   0.,   0.,   0.,   0.,   0.]]"
   ]
  },
  {
   "source": [
    "# convert raw list to pytorch tensor and normalize it\n",
    "x = torch.FloatTensor(x)\n",
    "x = x.view(1, 1, IMAGE_SIZE, IMAGE_SIZE).cuda()\n",
    "x = x / 255.0"
   ],
   "cell_type": "code",
   "metadata": {},
   "execution_count": 6,
   "outputs": []
  },
  {
   "cell_type": "code",
   "execution_count": 7,
   "metadata": {},
   "outputs": [
    {
     "output_type": "stream",
     "name": "stdout",
     "text": [
      "prediction: bicycle\n"
     ]
    },
    {
     "output_type": "execute_result",
     "data": {
      "text/plain": [
       "<matplotlib.image.AxesImage at 0x7f83b695caf0>"
      ]
     },
     "metadata": {},
     "execution_count": 7
    },
    {
     "output_type": "display_data",
     "data": {
      "text/plain": "<Figure size 432x288 with 1 Axes>",
      "image/svg+xml": "<?xml version=\"1.0\" encoding=\"utf-8\" standalone=\"no\"?>\n<!DOCTYPE svg PUBLIC \"-//W3C//DTD SVG 1.1//EN\"\n  \"http://www.w3.org/Graphics/SVG/1.1/DTD/svg11.dtd\">\n<!-- Created with matplotlib (https://matplotlib.org/) -->\n<svg height=\"248.518125pt\" version=\"1.1\" viewBox=\"0 0 251.565 248.518125\" width=\"251.565pt\" xmlns=\"http://www.w3.org/2000/svg\" xmlns:xlink=\"http://www.w3.org/1999/xlink\">\n <metadata>\n  <rdf:RDF xmlns:cc=\"http://creativecommons.org/ns#\" xmlns:dc=\"http://purl.org/dc/elements/1.1/\" xmlns:rdf=\"http://www.w3.org/1999/02/22-rdf-syntax-ns#\">\n   <cc:Work>\n    <dc:type rdf:resource=\"http://purl.org/dc/dcmitype/StillImage\"/>\n    <dc:date>2021-06-20T12:42:59.924500</dc:date>\n    <dc:format>image/svg+xml</dc:format>\n    <dc:creator>\n     <cc:Agent>\n      <dc:title>Matplotlib v3.3.1, https://matplotlib.org/</dc:title>\n     </cc:Agent>\n    </dc:creator>\n   </cc:Work>\n  </rdf:RDF>\n </metadata>\n <defs>\n  <style type=\"text/css\">*{stroke-linecap:butt;stroke-linejoin:round;}</style>\n </defs>\n <g id=\"figure_1\">\n  <g id=\"patch_1\">\n   <path d=\"M 0 248.518125 \nL 251.565 248.518125 \nL 251.565 0 \nL 0 0 \nz\n\" style=\"fill:none;\"/>\n  </g>\n  <g id=\"axes_1\">\n   <g id=\"patch_2\">\n    <path d=\"M 26.925 224.64 \nL 244.365 224.64 \nL 244.365 7.2 \nL 26.925 7.2 \nz\n\" style=\"fill:#ffffff;\"/>\n   </g>\n   <g clip-path=\"url(#p3b808b1cf2)\">\n    <image height=\"218\" id=\"imageb956b0f2d9\" transform=\"scale(1 -1)translate(0 -218)\" width=\"218\" x=\"26.925\" xlink:href=\"data:image/png;base64,\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\" y=\"-6.64\"/>\n   </g>\n   <g id=\"matplotlib.axis_1\">\n    <g id=\"xtick_1\">\n     <g id=\"line2d_1\">\n      <defs>\n       <path d=\"M 0 0 \nL 0 3.5 \n\" id=\"m643710dd2f\" style=\"stroke:#000000;stroke-width:0.8;\"/>\n      </defs>\n      <g>\n       <use style=\"stroke:#000000;stroke-width:0.8;\" x=\"30.807857\" xlink:href=\"#m643710dd2f\" y=\"224.64\"/>\n      </g>\n     </g>\n     <g id=\"text_1\">\n      <!-- 0 -->\n      <g transform=\"translate(27.626607 239.238437)scale(0.1 -0.1)\">\n       <defs>\n        <path d=\"M 31.78125 66.40625 \nQ 24.171875 66.40625 20.328125 58.90625 \nQ 16.5 51.421875 16.5 36.375 \nQ 16.5 21.390625 20.328125 13.890625 \nQ 24.171875 6.390625 31.78125 6.390625 \nQ 39.453125 6.390625 43.28125 13.890625 \nQ 47.125 21.390625 47.125 36.375 \nQ 47.125 51.421875 43.28125 58.90625 \nQ 39.453125 66.40625 31.78125 66.40625 \nz\nM 31.78125 74.21875 \nQ 44.046875 74.21875 50.515625 64.515625 \nQ 56.984375 54.828125 56.984375 36.375 \nQ 56.984375 17.96875 50.515625 8.265625 \nQ 44.046875 -1.421875 31.78125 -1.421875 \nQ 19.53125 -1.421875 13.0625 8.265625 \nQ 6.59375 17.96875 6.59375 36.375 \nQ 6.59375 54.828125 13.0625 64.515625 \nQ 19.53125 74.21875 31.78125 74.21875 \nz\n\" id=\"DejaVuSans-48\"/>\n       </defs>\n       <use xlink:href=\"#DejaVuSans-48\"/>\n      </g>\n     </g>\n    </g>\n    <g id=\"xtick_2\">\n     <g id=\"line2d_2\">\n      <g>\n       <use style=\"stroke:#000000;stroke-width:0.8;\" x=\"69.636429\" xlink:href=\"#m643710dd2f\" y=\"224.64\"/>\n      </g>\n     </g>\n     <g id=\"text_2\">\n      <!-- 5 -->\n      <g transform=\"translate(66.455179 239.238437)scale(0.1 -0.1)\">\n       <defs>\n        <path d=\"M 10.796875 72.90625 \nL 49.515625 72.90625 \nL 49.515625 64.59375 \nL 19.828125 64.59375 \nL 19.828125 46.734375 \nQ 21.96875 47.46875 24.109375 47.828125 \nQ 26.265625 48.1875 28.421875 48.1875 \nQ 40.625 48.1875 47.75 41.5 \nQ 54.890625 34.8125 54.890625 23.390625 \nQ 54.890625 11.625 47.5625 5.09375 \nQ 40.234375 -1.421875 26.90625 -1.421875 \nQ 22.3125 -1.421875 17.546875 -0.640625 \nQ 12.796875 0.140625 7.71875 1.703125 \nL 7.71875 11.625 \nQ 12.109375 9.234375 16.796875 8.0625 \nQ 21.484375 6.890625 26.703125 6.890625 \nQ 35.15625 6.890625 40.078125 11.328125 \nQ 45.015625 15.765625 45.015625 23.390625 \nQ 45.015625 31 40.078125 35.4375 \nQ 35.15625 39.890625 26.703125 39.890625 \nQ 22.75 39.890625 18.8125 39.015625 \nQ 14.890625 38.140625 10.796875 36.28125 \nz\n\" id=\"DejaVuSans-53\"/>\n       </defs>\n       <use xlink:href=\"#DejaVuSans-53\"/>\n      </g>\n     </g>\n    </g>\n    <g id=\"xtick_3\">\n     <g id=\"line2d_3\">\n      <g>\n       <use style=\"stroke:#000000;stroke-width:0.8;\" x=\"108.465\" xlink:href=\"#m643710dd2f\" y=\"224.64\"/>\n      </g>\n     </g>\n     <g id=\"text_3\">\n      <!-- 10 -->\n      <g transform=\"translate(102.1025 239.238437)scale(0.1 -0.1)\">\n       <defs>\n        <path d=\"M 12.40625 8.296875 \nL 28.515625 8.296875 \nL 28.515625 63.921875 \nL 10.984375 60.40625 \nL 10.984375 69.390625 \nL 28.421875 72.90625 \nL 38.28125 72.90625 \nL 38.28125 8.296875 \nL 54.390625 8.296875 \nL 54.390625 0 \nL 12.40625 0 \nz\n\" id=\"DejaVuSans-49\"/>\n       </defs>\n       <use xlink:href=\"#DejaVuSans-49\"/>\n       <use x=\"63.623047\" xlink:href=\"#DejaVuSans-48\"/>\n      </g>\n     </g>\n    </g>\n    <g id=\"xtick_4\">\n     <g id=\"line2d_4\">\n      <g>\n       <use style=\"stroke:#000000;stroke-width:0.8;\" x=\"147.293571\" xlink:href=\"#m643710dd2f\" y=\"224.64\"/>\n      </g>\n     </g>\n     <g id=\"text_4\">\n      <!-- 15 -->\n      <g transform=\"translate(140.931071 239.238437)scale(0.1 -0.1)\">\n       <use xlink:href=\"#DejaVuSans-49\"/>\n       <use x=\"63.623047\" xlink:href=\"#DejaVuSans-53\"/>\n      </g>\n     </g>\n    </g>\n    <g id=\"xtick_5\">\n     <g id=\"line2d_5\">\n      <g>\n       <use style=\"stroke:#000000;stroke-width:0.8;\" x=\"186.122143\" xlink:href=\"#m643710dd2f\" y=\"224.64\"/>\n      </g>\n     </g>\n     <g id=\"text_5\">\n      <!-- 20 -->\n      <g transform=\"translate(179.759643 239.238437)scale(0.1 -0.1)\">\n       <defs>\n        <path d=\"M 19.1875 8.296875 \nL 53.609375 8.296875 \nL 53.609375 0 \nL 7.328125 0 \nL 7.328125 8.296875 \nQ 12.9375 14.109375 22.625 23.890625 \nQ 32.328125 33.6875 34.8125 36.53125 \nQ 39.546875 41.84375 41.421875 45.53125 \nQ 43.3125 49.21875 43.3125 52.78125 \nQ 43.3125 58.59375 39.234375 62.25 \nQ 35.15625 65.921875 28.609375 65.921875 \nQ 23.96875 65.921875 18.8125 64.3125 \nQ 13.671875 62.703125 7.8125 59.421875 \nL 7.8125 69.390625 \nQ 13.765625 71.78125 18.9375 73 \nQ 24.125 74.21875 28.421875 74.21875 \nQ 39.75 74.21875 46.484375 68.546875 \nQ 53.21875 62.890625 53.21875 53.421875 \nQ 53.21875 48.921875 51.53125 44.890625 \nQ 49.859375 40.875 45.40625 35.40625 \nQ 44.1875 33.984375 37.640625 27.21875 \nQ 31.109375 20.453125 19.1875 8.296875 \nz\n\" id=\"DejaVuSans-50\"/>\n       </defs>\n       <use xlink:href=\"#DejaVuSans-50\"/>\n       <use x=\"63.623047\" xlink:href=\"#DejaVuSans-48\"/>\n      </g>\n     </g>\n    </g>\n    <g id=\"xtick_6\">\n     <g id=\"line2d_6\">\n      <g>\n       <use style=\"stroke:#000000;stroke-width:0.8;\" x=\"224.950714\" xlink:href=\"#m643710dd2f\" y=\"224.64\"/>\n      </g>\n     </g>\n     <g id=\"text_6\">\n      <!-- 25 -->\n      <g transform=\"translate(218.588214 239.238437)scale(0.1 -0.1)\">\n       <use xlink:href=\"#DejaVuSans-50\"/>\n       <use x=\"63.623047\" xlink:href=\"#DejaVuSans-53\"/>\n      </g>\n     </g>\n    </g>\n   </g>\n   <g id=\"matplotlib.axis_2\">\n    <g id=\"ytick_1\">\n     <g id=\"line2d_7\">\n      <defs>\n       <path d=\"M 0 0 \nL -3.5 0 \n\" id=\"m7d4120131d\" style=\"stroke:#000000;stroke-width:0.8;\"/>\n      </defs>\n      <g>\n       <use style=\"stroke:#000000;stroke-width:0.8;\" x=\"26.925\" xlink:href=\"#m7d4120131d\" y=\"11.082857\"/>\n      </g>\n     </g>\n     <g id=\"text_7\">\n      <!-- 0 -->\n      <g transform=\"translate(13.5625 14.882076)scale(0.1 -0.1)\">\n       <use xlink:href=\"#DejaVuSans-48\"/>\n      </g>\n     </g>\n    </g>\n    <g id=\"ytick_2\">\n     <g id=\"line2d_8\">\n      <g>\n       <use style=\"stroke:#000000;stroke-width:0.8;\" x=\"26.925\" xlink:href=\"#m7d4120131d\" y=\"49.911429\"/>\n      </g>\n     </g>\n     <g id=\"text_8\">\n      <!-- 5 -->\n      <g transform=\"translate(13.5625 53.710647)scale(0.1 -0.1)\">\n       <use xlink:href=\"#DejaVuSans-53\"/>\n      </g>\n     </g>\n    </g>\n    <g id=\"ytick_3\">\n     <g id=\"line2d_9\">\n      <g>\n       <use style=\"stroke:#000000;stroke-width:0.8;\" x=\"26.925\" xlink:href=\"#m7d4120131d\" y=\"88.74\"/>\n      </g>\n     </g>\n     <g id=\"text_9\">\n      <!-- 10 -->\n      <g transform=\"translate(7.2 92.539219)scale(0.1 -0.1)\">\n       <use xlink:href=\"#DejaVuSans-49\"/>\n       <use x=\"63.623047\" xlink:href=\"#DejaVuSans-48\"/>\n      </g>\n     </g>\n    </g>\n    <g id=\"ytick_4\">\n     <g id=\"line2d_10\">\n      <g>\n       <use style=\"stroke:#000000;stroke-width:0.8;\" x=\"26.925\" xlink:href=\"#m7d4120131d\" y=\"127.568571\"/>\n      </g>\n     </g>\n     <g id=\"text_10\">\n      <!-- 15 -->\n      <g transform=\"translate(7.2 131.36779)scale(0.1 -0.1)\">\n       <use xlink:href=\"#DejaVuSans-49\"/>\n       <use x=\"63.623047\" xlink:href=\"#DejaVuSans-53\"/>\n      </g>\n     </g>\n    </g>\n    <g id=\"ytick_5\">\n     <g id=\"line2d_11\">\n      <g>\n       <use style=\"stroke:#000000;stroke-width:0.8;\" x=\"26.925\" xlink:href=\"#m7d4120131d\" y=\"166.397143\"/>\n      </g>\n     </g>\n     <g id=\"text_11\">\n      <!-- 20 -->\n      <g transform=\"translate(7.2 170.196362)scale(0.1 -0.1)\">\n       <use xlink:href=\"#DejaVuSans-50\"/>\n       <use x=\"63.623047\" xlink:href=\"#DejaVuSans-48\"/>\n      </g>\n     </g>\n    </g>\n    <g id=\"ytick_6\">\n     <g id=\"line2d_12\">\n      <g>\n       <use style=\"stroke:#000000;stroke-width:0.8;\" x=\"26.925\" xlink:href=\"#m7d4120131d\" y=\"205.225714\"/>\n      </g>\n     </g>\n     <g id=\"text_12\">\n      <!-- 25 -->\n      <g transform=\"translate(7.2 209.024933)scale(0.1 -0.1)\">\n       <use xlink:href=\"#DejaVuSans-50\"/>\n       <use x=\"63.623047\" xlink:href=\"#DejaVuSans-53\"/>\n      </g>\n     </g>\n    </g>\n   </g>\n   <g id=\"patch_3\">\n    <path d=\"M 26.925 224.64 \nL 26.925 7.2 \n\" style=\"fill:none;stroke:#000000;stroke-linecap:square;stroke-linejoin:miter;stroke-width:0.8;\"/>\n   </g>\n   <g id=\"patch_4\">\n    <path d=\"M 244.365 224.64 \nL 244.365 7.2 \n\" style=\"fill:none;stroke:#000000;stroke-linecap:square;stroke-linejoin:miter;stroke-width:0.8;\"/>\n   </g>\n   <g id=\"patch_5\">\n    <path d=\"M 26.925 224.64 \nL 244.365 224.64 \n\" style=\"fill:none;stroke:#000000;stroke-linecap:square;stroke-linejoin:miter;stroke-width:0.8;\"/>\n   </g>\n   <g id=\"patch_6\">\n    <path d=\"M 26.925 7.2 \nL 244.365 7.2 \n\" style=\"fill:none;stroke:#000000;stroke-linecap:square;stroke-linejoin:miter;stroke-width:0.8;\"/>\n   </g>\n  </g>\n </g>\n <defs>\n  <clipPath id=\"p3b808b1cf2\">\n   <rect height=\"217.44\" width=\"217.44\" x=\"26.925\" y=\"7.2\"/>\n  </clipPath>\n </defs>\n</svg>\n",
      "image/png": "[encoded data removed]"
     },
     "metadata": {
      "needs_background": "light"
     }
    }
   ],
   "source": [
    "model.eval()\n",
    "outputs = model(x)\n",
    "_, predicted = torch.max(outputs, 1)\n",
    "\n",
    "print(f'prediction: {CLASSES[predicted[i]]}')\n",
    "imshow(x.view(28, 28).cpu())"
   ]
  },
  {
   "cell_type": "code",
   "execution_count": 8,
   "metadata": {},
   "outputs": [
    {
     "output_type": "execute_result",
     "data": {
      "text/plain": [
       "tensor([[ 0.2194,  7.2208, -1.2249,  0.2660, -3.3123,  0.5203, -1.5350, -2.0056,\n",
       "          0.7771, -1.0874]], device='cuda:0', grad_fn=<AddmmBackward>)"
      ]
     },
     "metadata": {},
     "execution_count": 8
    }
   ],
   "source": [
    "outputs"
   ]
  }
 ],
 "metadata": {
  "kernelspec": {
   "name": "python3",
   "display_name": "Python 3.8.5 64-bit ('fastai': conda)"
  },
  "language_info": {
   "codemirror_mode": {
    "name": "ipython",
    "version": 3
   },
   "file_extension": ".py",
   "mimetype": "text/x-python",
   "name": "python",
   "nbconvert_exporter": "python",
   "pygments_lexer": "ipython3",
   "version": "3.8.5"
  },
  "metadata": {
   "interpreter": {
    "hash": "89b42bf818aba7caf36f808f4e4d121a5375763d533b39721a76e70b1f011c6b"
   }
  },
  "interpreter": {
   "hash": "89b42bf818aba7caf36f808f4e4d121a5375763d533b39721a76e70b1f011c6b"
  }
 },
 "nbformat": 4,
 "nbformat_minor": 4
}