{
 "cells": [
  {
   "cell_type": "code",
   "execution_count": 1,
   "metadata": {},
   "outputs": [],
   "source": [
    "import os\n",
    "from config import *\n",
    "from tqdm import tqdm\n",
    "from utils.dataset import DrawingsDataset\n",
    "from utils.data_utils import load_dataset\n",
    "from matplotlib.pyplot import imshow, show\n",
    "\n",
    "import torch\n",
    "import torchvision.models as models\n",
    "import torch.nn as nn\n",
    "import torch.nn.functional as F"
   ]
  },
  {
   "cell_type": "code",
   "execution_count": 2,
   "metadata": {},
   "outputs": [],
   "source": [
    "def resnet50():\n",
    "    model = models.resnet50(pretrained=False)\n",
    "    \n",
    "    conv1_out_channels = model.conv1.out_channels\n",
    "    model.conv1 = nn.Conv2d(1, conv1_out_channels, kernel_size=3, stride=1, padding=1, bias=False)\n",
    "    model.maxpool = nn.MaxPool2d(kernel_size=2)\n",
    "    fc_features = model.fc.in_features\n",
    "    model.fc = nn.Linear(fc_features, len(CLASSES))\n",
    "    \n",
    "    return model"
   ]
  },
  {
   "cell_type": "code",
   "execution_count": 3,
   "metadata": {},
   "outputs": [],
   "source": [
    "model = resnet50().cuda()\n",
    "model.load_state_dict(torch.load('./models/model.pth'))\n",
    "dataset = load_dataset('test')"
   ]
  },
  {
   "cell_type": "code",
   "execution_count": 4,
   "metadata": {},
   "outputs": [
    {
     "name": "stdout",
     "output_type": "stream",
     "text": [
      "label: car\n",
      "prediction: car\n"
     ]
    },
    {
     "data": {
      "image/png": "[encoded data removed]",
      "text/plain": [
       "<Figure size 432x288 with 1 Axes>"
      ]
     },
     "metadata": {
      "needs_background": "light"
     },
     "output_type": "display_data"
    }
   ],
   "source": [
    "test_data = DrawingsDataset(mtype=\"test\")\n",
    "test_loader = torch.utils.data.DataLoader(test_data, batch_size=10, shuffle=True)\n",
    "\n",
    "dataiter = iter(test_loader)\n",
    "\n",
    "drawings, labels = dataiter.next()\n",
    "drawings = drawings.view(-1, 1, 28, 28).cuda()\n",
    "\n",
    "\n",
    "outputs = model(drawings)\n",
    "_, predicted = torch.max(outputs, 1)\n",
    "\n",
    "i = 2\n",
    "\n",
    "imshow(drawings[i].view(28, 28).cpu())\n",
    "print(f'label: {CLASSES[labels[i]]}')\n",
    "print(f'prediction: {CLASSES[predicted[i]]}')"
   ]
  },
  {
   "cell_type": "code",
   "execution_count": null,
   "metadata": {},
   "outputs": [],
   "source": [
    "\n"
   ]
  }
 ],
 "metadata": {
  "kernelspec": {
   "display_name": "Python 3.8.5 64-bit ('fastai': conda)",
   "language": "python",
   "name": "python38564bitfastaiconda4afcf4cf190c4e07973d2548466d7b94"
  },
  "language_info": {
   "codemirror_mode": {
    "name": "ipython",
    "version": 3
   },
   "file_extension": ".py",
   "mimetype": "text/x-python",
   "name": "python",
   "nbconvert_exporter": "python",
   "pygments_lexer": "ipython3",
   "version": "3.8.5"
  }
 },
 "nbformat": 4,
 "nbformat_minor": 4
}
