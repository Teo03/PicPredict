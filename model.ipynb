{
 "cells": [
  {
   "cell_type": "code",
   "execution_count": 1,
   "metadata": {},
   "outputs": [],
   "source": [
    "import os\n",
    "from config import *\n",
    "from tqdm import tqdm\n",
    "from utils.dataset import DrawingsDataset\n",
    "\n",
    "import torch\n",
    "import torchvision.models as models\n",
    "import torch.nn as nn\n",
    "import torch.nn.functional as F"
   ]
  },
  {
   "cell_type": "code",
   "execution_count": 2,
   "metadata": {},
   "outputs": [],
   "source": [
    "def resnet50():\n",
    "    model = models.resnet50(pretrained=False)\n",
    "    \n",
    "    conv1_out_channels = model.conv1.out_channels\n",
    "    model.conv1 = nn.Conv2d(1, conv1_out_channels, kernel_size=3, stride=1, padding=1, bias=False)\n",
    "    model.maxpool = nn.MaxPool2d(kernel_size=2)\n",
    "    fc_features = model.fc.in_features\n",
    "    model.fc = nn.Linear(fc_features, len(CLASSES))\n",
    "    \n",
    "    return model"
   ]
  },
  {
   "cell_type": "code",
   "execution_count": 3,
   "metadata": {},
   "outputs": [
    {
     "name": "stdout",
     "output_type": "stream",
     "text": [
      "Train images: 40000\n",
      "Test images: 10000\n"
     ]
    },
    {
     "name": "stderr",
     "output_type": "stream",
     "text": [
      "Training:   0%|          | 0/313 [00:00<?, ?it/s]"
     ]
    },
    {
     "name": "stdout",
     "output_type": "stream",
     "text": [
      "epoch: 1\n"
     ]
    },
    {
     "name": "stderr",
     "output_type": "stream",
     "text": [
      "Training: 100%|██████████| 313/313 [01:40<00:00,  3.11it/s]\n",
      "Testing: 100%|██████████| 79/79 [00:06<00:00, 11.63it/s]\n"
     ]
    },
    {
     "name": "stdout",
     "output_type": "stream",
     "text": [
      "test loss: 1.9616224795957156\n"
     ]
    },
    {
     "name": "stderr",
     "output_type": "stream",
     "text": [
      "Training:   0%|          | 0/313 [00:00<?, ?it/s]"
     ]
    },
    {
     "name": "stdout",
     "output_type": "stream",
     "text": [
      "Best accuracy: 0.2312\n",
      "epoch: 2\n"
     ]
    },
    {
     "name": "stderr",
     "output_type": "stream",
     "text": [
      "Training: 100%|██████████| 313/313 [01:40<00:00,  3.11it/s]\n",
      "Testing: 100%|██████████| 79/79 [00:07<00:00, 11.24it/s]\n"
     ]
    },
    {
     "name": "stdout",
     "output_type": "stream",
     "text": [
      "test loss: 0.8274026437650753\n"
     ]
    },
    {
     "name": "stderr",
     "output_type": "stream",
     "text": [
      "Training:   0%|          | 0/313 [00:00<?, ?it/s]"
     ]
    },
    {
     "name": "stdout",
     "output_type": "stream",
     "text": [
      "Best accuracy: 0.7391\n",
      "epoch: 3\n"
     ]
    },
    {
     "name": "stderr",
     "output_type": "stream",
     "text": [
      "Training: 100%|██████████| 313/313 [01:40<00:00,  3.11it/s]\n",
      "Testing: 100%|██████████| 79/79 [00:06<00:00, 11.73it/s]\n"
     ]
    },
    {
     "name": "stdout",
     "output_type": "stream",
     "text": [
      "test loss: 0.5046511835689786\n"
     ]
    },
    {
     "name": "stderr",
     "output_type": "stream",
     "text": [
      "Training:   0%|          | 0/313 [00:00<?, ?it/s]"
     ]
    },
    {
     "name": "stdout",
     "output_type": "stream",
     "text": [
      "Best accuracy: 0.8448\n",
      "epoch: 4\n"
     ]
    },
    {
     "name": "stderr",
     "output_type": "stream",
     "text": [
      "Training: 100%|██████████| 313/313 [01:40<00:00,  3.12it/s]\n",
      "Testing: 100%|██████████| 79/79 [00:06<00:00, 11.63it/s]\n"
     ]
    },
    {
     "name": "stdout",
     "output_type": "stream",
     "text": [
      "test loss: 0.3468429438675506\n"
     ]
    },
    {
     "name": "stderr",
     "output_type": "stream",
     "text": [
      "Training:   0%|          | 0/313 [00:00<?, ?it/s]"
     ]
    },
    {
     "name": "stdout",
     "output_type": "stream",
     "text": [
      "Best accuracy: 0.8924\n",
      "epoch: 5\n"
     ]
    },
    {
     "name": "stderr",
     "output_type": "stream",
     "text": [
      "Training: 100%|██████████| 313/313 [01:40<00:00,  3.11it/s]\n",
      "Testing: 100%|██████████| 79/79 [00:06<00:00, 11.60it/s]\n"
     ]
    },
    {
     "name": "stdout",
     "output_type": "stream",
     "text": [
      "test loss: 0.3169728123311755\n"
     ]
    },
    {
     "name": "stderr",
     "output_type": "stream",
     "text": [
      "Training:   0%|          | 0/313 [00:00<?, ?it/s]"
     ]
    },
    {
     "name": "stdout",
     "output_type": "stream",
     "text": [
      "Best accuracy: 0.9026\n",
      "epoch: 6\n"
     ]
    },
    {
     "name": "stderr",
     "output_type": "stream",
     "text": [
      "Training: 100%|██████████| 313/313 [01:40<00:00,  3.11it/s]\n",
      "Testing: 100%|██████████| 79/79 [00:06<00:00, 11.62it/s]\n"
     ]
    },
    {
     "name": "stdout",
     "output_type": "stream",
     "text": [
      "test loss: 0.26243886691105517\n"
     ]
    },
    {
     "name": "stderr",
     "output_type": "stream",
     "text": [
      "Training:   0%|          | 0/313 [00:00<?, ?it/s]"
     ]
    },
    {
     "name": "stdout",
     "output_type": "stream",
     "text": [
      "Best accuracy: 0.9229\n",
      "epoch: 7\n"
     ]
    },
    {
     "name": "stderr",
     "output_type": "stream",
     "text": [
      "Training: 100%|██████████| 313/313 [01:41<00:00,  3.08it/s]\n",
      "Testing: 100%|██████████| 79/79 [00:06<00:00, 11.64it/s]\n"
     ]
    },
    {
     "name": "stdout",
     "output_type": "stream",
     "text": [
      "test loss: 0.2190104786165153\n"
     ]
    },
    {
     "name": "stderr",
     "output_type": "stream",
     "text": [
      "Training:   0%|          | 0/313 [00:00<?, ?it/s]"
     ]
    },
    {
     "name": "stdout",
     "output_type": "stream",
     "text": [
      "Best accuracy: 0.9355\n",
      "epoch: 8\n"
     ]
    },
    {
     "name": "stderr",
     "output_type": "stream",
     "text": [
      "Training: 100%|██████████| 313/313 [01:42<00:00,  3.06it/s]\n",
      "Testing: 100%|██████████| 79/79 [00:07<00:00, 11.28it/s]\n",
      "Training:   0%|          | 0/313 [00:00<?, ?it/s]"
     ]
    },
    {
     "name": "stdout",
     "output_type": "stream",
     "text": [
      "test loss: 0.3324043126423148\n",
      "epoch: 9\n"
     ]
    },
    {
     "name": "stderr",
     "output_type": "stream",
     "text": [
      "Training: 100%|██████████| 313/313 [01:42<00:00,  3.06it/s]\n",
      "Testing: 100%|██████████| 79/79 [00:06<00:00, 11.63it/s]\n",
      "Training:   0%|          | 0/313 [00:00<?, ?it/s]"
     ]
    },
    {
     "name": "stdout",
     "output_type": "stream",
     "text": [
      "test loss: 0.24467892416670353\n",
      "epoch: 10\n"
     ]
    },
    {
     "name": "stderr",
     "output_type": "stream",
     "text": [
      "Training: 100%|██████████| 313/313 [01:42<00:00,  3.05it/s]\n",
      "Testing: 100%|██████████| 79/79 [00:06<00:00, 11.64it/s]"
     ]
    },
    {
     "name": "stdout",
     "output_type": "stream",
     "text": [
      "test loss: 0.2752262195454368\n"
     ]
    },
    {
     "name": "stderr",
     "output_type": "stream",
     "text": [
      "\n"
     ]
    }
   ],
   "source": [
    "train_data = DrawingsDataset(mtype=\"train\")\n",
    "train_loader = torch.utils.data.DataLoader(train_data, batch_size=MODEL_CFG['batch_size'], shuffle=True)\n",
    "\n",
    "test_data = DrawingsDataset(mtype=\"test\")\n",
    "test_loader = torch.utils.data.DataLoader(test_data, batch_size=MODEL_CFG['batch_size'], shuffle=True)\n",
    "\n",
    "print(\"Train images: %d\" % len(train_data))\n",
    "print(\"Test images: %d\" % len(test_data))\n",
    "\n",
    "net = resnet50().cuda()\n",
    "optimizer = torch.optim.SGD(net.parameters(), 0.1, momentum=MODEL_CFG['momentum'],\n",
    "                            weight_decay=MODEL_CFG['weight_decay'])\n",
    "\n",
    "train_accuracy = 0.0\n",
    "test_accuracy = 0.0\n",
    "best_accuracy = 0.0\n",
    "    \n",
    "def train():\n",
    "    net.train()\n",
    "    loss_avg = 0.0\n",
    "    correct = 0\n",
    "    \n",
    "    data_loader = tqdm(train_loader, desc='Training')\n",
    "    for batch_idx, (drawings, labels) in enumerate(data_loader):\n",
    "        drawings, labels = torch.autograd.Variable(drawings.cuda()), torch.autograd.Variable(labels.cuda())\n",
    "        drawings = drawings.view(-1, 1, IMAGE_SIZE, IMAGE_SIZE)\n",
    "        drawings /= 255.0\n",
    "\n",
    "        # forward\n",
    "        output = net(drawings)\n",
    "\n",
    "        # backward\n",
    "        optimizer.zero_grad()\n",
    "        loss = F.cross_entropy(output, labels)\n",
    "        loss.backward()\n",
    "        optimizer.step()\n",
    "\n",
    "        # accuracy\n",
    "        pred = output.data.max(1)[1]\n",
    "        correct += float(pred.eq(labels.data).sum())\n",
    "\n",
    "        # exp moving average\n",
    "        loss_avg = loss_avg*0.2+float(loss)*0.8\n",
    "\n",
    "    global train_accuracy\n",
    "    train_accuracy = correct/len(train_loader.dataset)\n",
    "\n",
    "def test():\n",
    "    net.eval()\n",
    "    loss_avg = 0.0\n",
    "    correct = 0\n",
    "    \n",
    "    data_loader = tqdm(test_loader, desc='Testing')\n",
    "    for batch_idx, (drawings, labels) in enumerate(data_loader):\n",
    "        drawings, labels = torch.autograd.Variable(drawings.cuda()), torch.autograd.Variable(labels.cuda())\n",
    "        \n",
    "        drawings = drawings.view(-1, 1, IMAGE_SIZE, IMAGE_SIZE)\n",
    "        drawings /= 255.0\n",
    "\n",
    "        # forward\n",
    "        output = net(drawings)\n",
    "        loss = F.cross_entropy(output, labels)\n",
    "\n",
    "        # accuracy\n",
    "        pred = output.data.max(1)[1]\n",
    "        correct += float(pred.eq(labels.data).sum())\n",
    "\n",
    "        # test loss average\n",
    "        loss_avg += float(loss)\n",
    "\n",
    "    print(f'test loss: {loss_avg/len(test_loader)}')\n",
    "    \n",
    "    global test_accuracy\n",
    "    test_accuracy = correct/len(test_loader.dataset)\n",
    "    \n",
    "for epoch in range(MODEL_CFG['epochs']):\n",
    "    print(\"epoch: \"+str(epoch+1))\n",
    "    \n",
    "    if epoch+1 in MODEL_CFG['lr_decay_step']:\n",
    "        MODEL_CFG['learning_rate'] *= MODEL_CFG['gamma']\n",
    "        for param_group in optimizer.param_groups:\n",
    "            param_group['lr'] = MODEL_CFG['learning_rate']\n",
    "            \n",
    "    train()\n",
    "    test()\n",
    "    \n",
    "    if test_accuracy > best_accuracy:\n",
    "        best_accuracy = test_accuracy\n",
    "        torch.save(net.state_dict(), os.path.join(MODELS_DIR, 'model.pth'))\n",
    "        print(\"Best accuracy: %.4f\" % best_accuracy)"
   ]
  },
  {
   "cell_type": "code",
   "execution_count": null,
   "metadata": {},
   "outputs": [],
   "source": []
  }
 ],
 "metadata": {
  "kernelspec": {
   "display_name": "Python 3",
   "language": "python",
   "name": "python3"
  },
  "language_info": {
   "codemirror_mode": {
    "name": "ipython",
    "version": 3
   },
   "file_extension": ".py",
   "mimetype": "text/x-python",
   "name": "python",
   "nbconvert_exporter": "python",
   "pygments_lexer": "ipython3",
   "version": "3.8.5"
  }
 },
 "nbformat": 4,
 "nbformat_minor": 4
}
